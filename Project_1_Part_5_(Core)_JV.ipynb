{
  "nbformat": 4,
  "nbformat_minor": 0,
  "metadata": {
    "colab": {
      "provenance": [],
      "authorship_tag": "ABX9TyOnKxHDFuhu8MnwcgiUjZMc",
      "include_colab_link": true
    },
    "kernelspec": {
      "name": "python3",
      "display_name": "Python 3"
    },
    "language_info": {
      "name": "python"
    }
  },
  "cells": [
    {
      "cell_type": "markdown",
      "metadata": {
        "id": "view-in-github",
        "colab_type": "text"
      },
      "source": [
        "<a href=\"https://colab.research.google.com/github/RazgrizGhost/first_repository/blob/main/Project_1_Part_5_(Core)_JV.ipynb\" target=\"_parent\"><img src=\"https://colab.research.google.com/assets/colab-badge.svg\" alt=\"Open In Colab\"/></a>"
      ]
    },
    {
      "cell_type": "markdown",
      "source": [
        "#Loading Data"
      ],
      "metadata": {
        "id": "TLonAUtKMqUu"
      }
    },
    {
      "cell_type": "code",
      "execution_count": 2,
      "metadata": {
        "colab": {
          "base_uri": "https://localhost:8080/"
        },
        "id": "g3sTqvumKe_B",
        "outputId": "624e51cb-bdfe-4378-f707-4a23c2d1a23d"
      },
      "outputs": [
        {
          "output_type": "stream",
          "name": "stdout",
          "text": [
            "Mounted at /content/drive\n"
          ]
        }
      ],
      "source": [
        "from google.colab import drive\n",
        "drive.mount('/content/drive')\n",
        "\n",
        "import pandas as pd\n",
        "\n",
        "filename = \"/content/drive/MyDrive/02 Week 2: Pandas/sales_predictions.csv\""
      ]
    },
    {
      "cell_type": "code",
      "source": [
        "sales_pred_df = pd.read_csv(filename)\n",
        "display(sales_pred_df.head())\n",
        "sales_pred_df.info()"
      ],
      "metadata": {
        "colab": {
          "base_uri": "https://localhost:8080/",
          "height": 697
        },
        "id": "Ri2Xvm1OOtdT",
        "outputId": "53ba0b07-534c-442e-f780-e26430a5b1d2"
      },
      "execution_count": 3,
      "outputs": [
        {
          "output_type": "display_data",
          "data": {
            "text/plain": [
              "  Item_Identifier  Item_Weight Item_Fat_Content  Item_Visibility  \\\n",
              "0           FDA15         9.30          Low Fat         0.016047   \n",
              "1           DRC01         5.92          Regular         0.019278   \n",
              "2           FDN15        17.50          Low Fat         0.016760   \n",
              "3           FDX07        19.20          Regular         0.000000   \n",
              "4           NCD19         8.93          Low Fat         0.000000   \n",
              "\n",
              "               Item_Type  Item_MRP Outlet_Identifier  \\\n",
              "0                  Dairy  249.8092            OUT049   \n",
              "1            Soft Drinks   48.2692            OUT018   \n",
              "2                   Meat  141.6180            OUT049   \n",
              "3  Fruits and Vegetables  182.0950            OUT010   \n",
              "4              Household   53.8614            OUT013   \n",
              "\n",
              "   Outlet_Establishment_Year Outlet_Size Outlet_Location_Type  \\\n",
              "0                       1999      Medium               Tier 1   \n",
              "1                       2009      Medium               Tier 3   \n",
              "2                       1999      Medium               Tier 1   \n",
              "3                       1998         NaN               Tier 3   \n",
              "4                       1987        High               Tier 3   \n",
              "\n",
              "         Outlet_Type  Item_Outlet_Sales  \n",
              "0  Supermarket Type1          3735.1380  \n",
              "1  Supermarket Type2           443.4228  \n",
              "2  Supermarket Type1          2097.2700  \n",
              "3      Grocery Store           732.3800  \n",
              "4  Supermarket Type1           994.7052  "
            ],
            "text/html": [
              "\n",
              "  <div id=\"df-8508965c-df9a-45c1-a751-b3101106ca6e\">\n",
              "    <div class=\"colab-df-container\">\n",
              "      <div>\n",
              "<style scoped>\n",
              "    .dataframe tbody tr th:only-of-type {\n",
              "        vertical-align: middle;\n",
              "    }\n",
              "\n",
              "    .dataframe tbody tr th {\n",
              "        vertical-align: top;\n",
              "    }\n",
              "\n",
              "    .dataframe thead th {\n",
              "        text-align: right;\n",
              "    }\n",
              "</style>\n",
              "<table border=\"1\" class=\"dataframe\">\n",
              "  <thead>\n",
              "    <tr style=\"text-align: right;\">\n",
              "      <th></th>\n",
              "      <th>Item_Identifier</th>\n",
              "      <th>Item_Weight</th>\n",
              "      <th>Item_Fat_Content</th>\n",
              "      <th>Item_Visibility</th>\n",
              "      <th>Item_Type</th>\n",
              "      <th>Item_MRP</th>\n",
              "      <th>Outlet_Identifier</th>\n",
              "      <th>Outlet_Establishment_Year</th>\n",
              "      <th>Outlet_Size</th>\n",
              "      <th>Outlet_Location_Type</th>\n",
              "      <th>Outlet_Type</th>\n",
              "      <th>Item_Outlet_Sales</th>\n",
              "    </tr>\n",
              "  </thead>\n",
              "  <tbody>\n",
              "    <tr>\n",
              "      <th>0</th>\n",
              "      <td>FDA15</td>\n",
              "      <td>9.30</td>\n",
              "      <td>Low Fat</td>\n",
              "      <td>0.016047</td>\n",
              "      <td>Dairy</td>\n",
              "      <td>249.8092</td>\n",
              "      <td>OUT049</td>\n",
              "      <td>1999</td>\n",
              "      <td>Medium</td>\n",
              "      <td>Tier 1</td>\n",
              "      <td>Supermarket Type1</td>\n",
              "      <td>3735.1380</td>\n",
              "    </tr>\n",
              "    <tr>\n",
              "      <th>1</th>\n",
              "      <td>DRC01</td>\n",
              "      <td>5.92</td>\n",
              "      <td>Regular</td>\n",
              "      <td>0.019278</td>\n",
              "      <td>Soft Drinks</td>\n",
              "      <td>48.2692</td>\n",
              "      <td>OUT018</td>\n",
              "      <td>2009</td>\n",
              "      <td>Medium</td>\n",
              "      <td>Tier 3</td>\n",
              "      <td>Supermarket Type2</td>\n",
              "      <td>443.4228</td>\n",
              "    </tr>\n",
              "    <tr>\n",
              "      <th>2</th>\n",
              "      <td>FDN15</td>\n",
              "      <td>17.50</td>\n",
              "      <td>Low Fat</td>\n",
              "      <td>0.016760</td>\n",
              "      <td>Meat</td>\n",
              "      <td>141.6180</td>\n",
              "      <td>OUT049</td>\n",
              "      <td>1999</td>\n",
              "      <td>Medium</td>\n",
              "      <td>Tier 1</td>\n",
              "      <td>Supermarket Type1</td>\n",
              "      <td>2097.2700</td>\n",
              "    </tr>\n",
              "    <tr>\n",
              "      <th>3</th>\n",
              "      <td>FDX07</td>\n",
              "      <td>19.20</td>\n",
              "      <td>Regular</td>\n",
              "      <td>0.000000</td>\n",
              "      <td>Fruits and Vegetables</td>\n",
              "      <td>182.0950</td>\n",
              "      <td>OUT010</td>\n",
              "      <td>1998</td>\n",
              "      <td>NaN</td>\n",
              "      <td>Tier 3</td>\n",
              "      <td>Grocery Store</td>\n",
              "      <td>732.3800</td>\n",
              "    </tr>\n",
              "    <tr>\n",
              "      <th>4</th>\n",
              "      <td>NCD19</td>\n",
              "      <td>8.93</td>\n",
              "      <td>Low Fat</td>\n",
              "      <td>0.000000</td>\n",
              "      <td>Household</td>\n",
              "      <td>53.8614</td>\n",
              "      <td>OUT013</td>\n",
              "      <td>1987</td>\n",
              "      <td>High</td>\n",
              "      <td>Tier 3</td>\n",
              "      <td>Supermarket Type1</td>\n",
              "      <td>994.7052</td>\n",
              "    </tr>\n",
              "  </tbody>\n",
              "</table>\n",
              "</div>\n",
              "      <button class=\"colab-df-convert\" onclick=\"convertToInteractive('df-8508965c-df9a-45c1-a751-b3101106ca6e')\"\n",
              "              title=\"Convert this dataframe to an interactive table.\"\n",
              "              style=\"display:none;\">\n",
              "        \n",
              "  <svg xmlns=\"http://www.w3.org/2000/svg\" height=\"24px\"viewBox=\"0 0 24 24\"\n",
              "       width=\"24px\">\n",
              "    <path d=\"M0 0h24v24H0V0z\" fill=\"none\"/>\n",
              "    <path d=\"M18.56 5.44l.94 2.06.94-2.06 2.06-.94-2.06-.94-.94-2.06-.94 2.06-2.06.94zm-11 1L8.5 8.5l.94-2.06 2.06-.94-2.06-.94L8.5 2.5l-.94 2.06-2.06.94zm10 10l.94 2.06.94-2.06 2.06-.94-2.06-.94-.94-2.06-.94 2.06-2.06.94z\"/><path d=\"M17.41 7.96l-1.37-1.37c-.4-.4-.92-.59-1.43-.59-.52 0-1.04.2-1.43.59L10.3 9.45l-7.72 7.72c-.78.78-.78 2.05 0 2.83L4 21.41c.39.39.9.59 1.41.59.51 0 1.02-.2 1.41-.59l7.78-7.78 2.81-2.81c.8-.78.8-2.07 0-2.86zM5.41 20L4 18.59l7.72-7.72 1.47 1.35L5.41 20z\"/>\n",
              "  </svg>\n",
              "      </button>\n",
              "      \n",
              "  <style>\n",
              "    .colab-df-container {\n",
              "      display:flex;\n",
              "      flex-wrap:wrap;\n",
              "      gap: 12px;\n",
              "    }\n",
              "\n",
              "    .colab-df-convert {\n",
              "      background-color: #E8F0FE;\n",
              "      border: none;\n",
              "      border-radius: 50%;\n",
              "      cursor: pointer;\n",
              "      display: none;\n",
              "      fill: #1967D2;\n",
              "      height: 32px;\n",
              "      padding: 0 0 0 0;\n",
              "      width: 32px;\n",
              "    }\n",
              "\n",
              "    .colab-df-convert:hover {\n",
              "      background-color: #E2EBFA;\n",
              "      box-shadow: 0px 1px 2px rgba(60, 64, 67, 0.3), 0px 1px 3px 1px rgba(60, 64, 67, 0.15);\n",
              "      fill: #174EA6;\n",
              "    }\n",
              "\n",
              "    [theme=dark] .colab-df-convert {\n",
              "      background-color: #3B4455;\n",
              "      fill: #D2E3FC;\n",
              "    }\n",
              "\n",
              "    [theme=dark] .colab-df-convert:hover {\n",
              "      background-color: #434B5C;\n",
              "      box-shadow: 0px 1px 3px 1px rgba(0, 0, 0, 0.15);\n",
              "      filter: drop-shadow(0px 1px 2px rgba(0, 0, 0, 0.3));\n",
              "      fill: #FFFFFF;\n",
              "    }\n",
              "  </style>\n",
              "\n",
              "      <script>\n",
              "        const buttonEl =\n",
              "          document.querySelector('#df-8508965c-df9a-45c1-a751-b3101106ca6e button.colab-df-convert');\n",
              "        buttonEl.style.display =\n",
              "          google.colab.kernel.accessAllowed ? 'block' : 'none';\n",
              "\n",
              "        async function convertToInteractive(key) {\n",
              "          const element = document.querySelector('#df-8508965c-df9a-45c1-a751-b3101106ca6e');\n",
              "          const dataTable =\n",
              "            await google.colab.kernel.invokeFunction('convertToInteractive',\n",
              "                                                     [key], {});\n",
              "          if (!dataTable) return;\n",
              "\n",
              "          const docLinkHtml = 'Like what you see? Visit the ' +\n",
              "            '<a target=\"_blank\" href=https://colab.research.google.com/notebooks/data_table.ipynb>data table notebook</a>'\n",
              "            + ' to learn more about interactive tables.';\n",
              "          element.innerHTML = '';\n",
              "          dataTable['output_type'] = 'display_data';\n",
              "          await google.colab.output.renderOutput(dataTable, element);\n",
              "          const docLink = document.createElement('div');\n",
              "          docLink.innerHTML = docLinkHtml;\n",
              "          element.appendChild(docLink);\n",
              "        }\n",
              "      </script>\n",
              "    </div>\n",
              "  </div>\n",
              "  "
            ]
          },
          "metadata": {}
        },
        {
          "output_type": "stream",
          "name": "stdout",
          "text": [
            "<class 'pandas.core.frame.DataFrame'>\n",
            "RangeIndex: 8523 entries, 0 to 8522\n",
            "Data columns (total 12 columns):\n",
            " #   Column                     Non-Null Count  Dtype  \n",
            "---  ------                     --------------  -----  \n",
            " 0   Item_Identifier            8523 non-null   object \n",
            " 1   Item_Weight                7060 non-null   float64\n",
            " 2   Item_Fat_Content           8523 non-null   object \n",
            " 3   Item_Visibility            8523 non-null   float64\n",
            " 4   Item_Type                  8523 non-null   object \n",
            " 5   Item_MRP                   8523 non-null   float64\n",
            " 6   Outlet_Identifier          8523 non-null   object \n",
            " 7   Outlet_Establishment_Year  8523 non-null   int64  \n",
            " 8   Outlet_Size                6113 non-null   object \n",
            " 9   Outlet_Location_Type       8523 non-null   object \n",
            " 10  Outlet_Type                8523 non-null   object \n",
            " 11  Item_Outlet_Sales          8523 non-null   float64\n",
            "dtypes: float64(4), int64(1), object(7)\n",
            "memory usage: 799.2+ KB\n"
          ]
        }
      ]
    },
    {
      "cell_type": "markdown",
      "source": [
        "# Data Cleaning"
      ],
      "metadata": {
        "id": "TuhTvIdPHMFb"
      }
    },
    {
      "cell_type": "markdown",
      "source": [
        "## # 1.  How many rows and columns? "
      ],
      "metadata": {
        "id": "fJh7NpGvV8lq"
      }
    },
    {
      "cell_type": "code",
      "source": [
        "sales_pred_df.shape"
      ],
      "metadata": {
        "id": "uKUE4p4eHO5u",
        "colab": {
          "base_uri": "https://localhost:8080/"
        },
        "outputId": "c9df7387-764c-412d-9d1b-389d05840c3e"
      },
      "execution_count": 4,
      "outputs": [
        {
          "output_type": "execute_result",
          "data": {
            "text/plain": [
              "(8523, 12)"
            ]
          },
          "metadata": {},
          "execution_count": 4
        }
      ]
    },
    {
      "cell_type": "markdown",
      "source": [
        "## #2. What are the datatypes of each variable?"
      ],
      "metadata": {
        "id": "7v4UP3UDWCnf"
      }
    },
    {
      "cell_type": "code",
      "source": [
        "sales_pred_df.dtypes"
      ],
      "metadata": {
        "colab": {
          "base_uri": "https://localhost:8080/"
        },
        "id": "V9NZ6IUIHO7z",
        "outputId": "07f0fd2d-29cc-4e52-86c4-ec999efea46c"
      },
      "execution_count": 5,
      "outputs": [
        {
          "output_type": "execute_result",
          "data": {
            "text/plain": [
              "Item_Identifier               object\n",
              "Item_Weight                  float64\n",
              "Item_Fat_Content              object\n",
              "Item_Visibility              float64\n",
              "Item_Type                     object\n",
              "Item_MRP                     float64\n",
              "Outlet_Identifier             object\n",
              "Outlet_Establishment_Year      int64\n",
              "Outlet_Size                   object\n",
              "Outlet_Location_Type          object\n",
              "Outlet_Type                   object\n",
              "Item_Outlet_Sales            float64\n",
              "dtype: object"
            ]
          },
          "metadata": {},
          "execution_count": 5
        }
      ]
    },
    {
      "cell_type": "markdown",
      "source": [
        "## # 3. Are there duplicates? If so, drop any duplicates."
      ],
      "metadata": {
        "id": "zgIfWlRXWR54"
      }
    },
    {
      "cell_type": "code",
      "source": [
        "# 3. Are there duplicates? If so, drop any duplicates.\n",
        "sales_pred_df.duplicated().sum()"
      ],
      "metadata": {
        "colab": {
          "base_uri": "https://localhost:8080/"
        },
        "id": "V8cEj3-NIgM0",
        "outputId": "f12dfa36-101a-4ca9-a113-a6b5da1322c8"
      },
      "execution_count": 6,
      "outputs": [
        {
          "output_type": "execute_result",
          "data": {
            "text/plain": [
              "0"
            ]
          },
          "metadata": {},
          "execution_count": 6
        }
      ]
    },
    {
      "cell_type": "markdown",
      "source": [
        "## # 4. Identify missing values."
      ],
      "metadata": {
        "id": "QaYb3cb4WWTl"
      }
    },
    {
      "cell_type": "code",
      "source": [
        "# 4. Identify missing values.\n",
        "sales_pred_df.isna().sum()"
      ],
      "metadata": {
        "colab": {
          "base_uri": "https://localhost:8080/"
        },
        "id": "iwDHnjTrIlqr",
        "outputId": "48e1528a-8de9-41ba-d7e1-35a90401f998"
      },
      "execution_count": 7,
      "outputs": [
        {
          "output_type": "execute_result",
          "data": {
            "text/plain": [
              "Item_Identifier                 0\n",
              "Item_Weight                  1463\n",
              "Item_Fat_Content                0\n",
              "Item_Visibility                 0\n",
              "Item_Type                       0\n",
              "Item_MRP                        0\n",
              "Outlet_Identifier               0\n",
              "Outlet_Establishment_Year       0\n",
              "Outlet_Size                  2410\n",
              "Outlet_Location_Type            0\n",
              "Outlet_Type                     0\n",
              "Item_Outlet_Sales               0\n",
              "dtype: int64"
            ]
          },
          "metadata": {},
          "execution_count": 7
        }
      ]
    },
    {
      "cell_type": "markdown",
      "source": [
        "## # 5. Decide on how to address the missing values and do it! "
      ],
      "metadata": {
        "id": "3HzjbBWMWZpW"
      }
    },
    {
      "cell_type": "code",
      "source": [
        "# 5. Decide on how to address the missing values and do it! \n",
        "sales_pred_df.dropna(subset=['Item_Weight'], inplace=True) # dropping \"Item Weight\" since the info is not needed for sales predictions.\n",
        "sales_pred_df.dropna(subset=['Outlet_Size'], inplace=True) # dropping \"Outlet Size\" since we can get that info on what \"Outlet Type\" it is.\n",
        "display(sales_pred_df)\n",
        "sales_pred_df.info()\n"
      ],
      "metadata": {
        "id": "nUoL9VMWIk3v",
        "colab": {
          "base_uri": "https://localhost:8080/",
          "height": 1000
        },
        "outputId": "320481df-fd45-4560-b946-6448d5e9b74f"
      },
      "execution_count": 8,
      "outputs": [
        {
          "output_type": "display_data",
          "data": {
            "text/plain": [
              "     Item_Identifier  Item_Weight Item_Fat_Content  Item_Visibility  \\\n",
              "0              FDA15        9.300          Low Fat         0.016047   \n",
              "1              DRC01        5.920          Regular         0.019278   \n",
              "2              FDN15       17.500          Low Fat         0.016760   \n",
              "4              NCD19        8.930          Low Fat         0.000000   \n",
              "5              FDP36       10.395          Regular         0.000000   \n",
              "...              ...          ...              ...              ...   \n",
              "8517           FDF53       20.750              reg         0.083607   \n",
              "8518           FDF22        6.865          Low Fat         0.056783   \n",
              "8520           NCJ29       10.600          Low Fat         0.035186   \n",
              "8521           FDN46        7.210          Regular         0.145221   \n",
              "8522           DRG01       14.800          Low Fat         0.044878   \n",
              "\n",
              "               Item_Type  Item_MRP Outlet_Identifier  \\\n",
              "0                  Dairy  249.8092            OUT049   \n",
              "1            Soft Drinks   48.2692            OUT018   \n",
              "2                   Meat  141.6180            OUT049   \n",
              "4              Household   53.8614            OUT013   \n",
              "5           Baking Goods   51.4008            OUT018   \n",
              "...                  ...       ...               ...   \n",
              "8517        Frozen Foods  178.8318            OUT046   \n",
              "8518         Snack Foods  214.5218            OUT013   \n",
              "8520  Health and Hygiene   85.1224            OUT035   \n",
              "8521         Snack Foods  103.1332            OUT018   \n",
              "8522         Soft Drinks   75.4670            OUT046   \n",
              "\n",
              "      Outlet_Establishment_Year Outlet_Size Outlet_Location_Type  \\\n",
              "0                          1999      Medium               Tier 1   \n",
              "1                          2009      Medium               Tier 3   \n",
              "2                          1999      Medium               Tier 1   \n",
              "4                          1987        High               Tier 3   \n",
              "5                          2009      Medium               Tier 3   \n",
              "...                         ...         ...                  ...   \n",
              "8517                       1997       Small               Tier 1   \n",
              "8518                       1987        High               Tier 3   \n",
              "8520                       2004       Small               Tier 2   \n",
              "8521                       2009      Medium               Tier 3   \n",
              "8522                       1997       Small               Tier 1   \n",
              "\n",
              "            Outlet_Type  Item_Outlet_Sales  \n",
              "0     Supermarket Type1          3735.1380  \n",
              "1     Supermarket Type2           443.4228  \n",
              "2     Supermarket Type1          2097.2700  \n",
              "4     Supermarket Type1           994.7052  \n",
              "5     Supermarket Type2           556.6088  \n",
              "...                 ...                ...  \n",
              "8517  Supermarket Type1          3608.6360  \n",
              "8518  Supermarket Type1          2778.3834  \n",
              "8520  Supermarket Type1          1193.1136  \n",
              "8521  Supermarket Type2          1845.5976  \n",
              "8522  Supermarket Type1           765.6700  \n",
              "\n",
              "[4650 rows x 12 columns]"
            ],
            "text/html": [
              "\n",
              "  <div id=\"df-d9f33a66-9654-40d2-9e13-b25607d39ab0\">\n",
              "    <div class=\"colab-df-container\">\n",
              "      <div>\n",
              "<style scoped>\n",
              "    .dataframe tbody tr th:only-of-type {\n",
              "        vertical-align: middle;\n",
              "    }\n",
              "\n",
              "    .dataframe tbody tr th {\n",
              "        vertical-align: top;\n",
              "    }\n",
              "\n",
              "    .dataframe thead th {\n",
              "        text-align: right;\n",
              "    }\n",
              "</style>\n",
              "<table border=\"1\" class=\"dataframe\">\n",
              "  <thead>\n",
              "    <tr style=\"text-align: right;\">\n",
              "      <th></th>\n",
              "      <th>Item_Identifier</th>\n",
              "      <th>Item_Weight</th>\n",
              "      <th>Item_Fat_Content</th>\n",
              "      <th>Item_Visibility</th>\n",
              "      <th>Item_Type</th>\n",
              "      <th>Item_MRP</th>\n",
              "      <th>Outlet_Identifier</th>\n",
              "      <th>Outlet_Establishment_Year</th>\n",
              "      <th>Outlet_Size</th>\n",
              "      <th>Outlet_Location_Type</th>\n",
              "      <th>Outlet_Type</th>\n",
              "      <th>Item_Outlet_Sales</th>\n",
              "    </tr>\n",
              "  </thead>\n",
              "  <tbody>\n",
              "    <tr>\n",
              "      <th>0</th>\n",
              "      <td>FDA15</td>\n",
              "      <td>9.300</td>\n",
              "      <td>Low Fat</td>\n",
              "      <td>0.016047</td>\n",
              "      <td>Dairy</td>\n",
              "      <td>249.8092</td>\n",
              "      <td>OUT049</td>\n",
              "      <td>1999</td>\n",
              "      <td>Medium</td>\n",
              "      <td>Tier 1</td>\n",
              "      <td>Supermarket Type1</td>\n",
              "      <td>3735.1380</td>\n",
              "    </tr>\n",
              "    <tr>\n",
              "      <th>1</th>\n",
              "      <td>DRC01</td>\n",
              "      <td>5.920</td>\n",
              "      <td>Regular</td>\n",
              "      <td>0.019278</td>\n",
              "      <td>Soft Drinks</td>\n",
              "      <td>48.2692</td>\n",
              "      <td>OUT018</td>\n",
              "      <td>2009</td>\n",
              "      <td>Medium</td>\n",
              "      <td>Tier 3</td>\n",
              "      <td>Supermarket Type2</td>\n",
              "      <td>443.4228</td>\n",
              "    </tr>\n",
              "    <tr>\n",
              "      <th>2</th>\n",
              "      <td>FDN15</td>\n",
              "      <td>17.500</td>\n",
              "      <td>Low Fat</td>\n",
              "      <td>0.016760</td>\n",
              "      <td>Meat</td>\n",
              "      <td>141.6180</td>\n",
              "      <td>OUT049</td>\n",
              "      <td>1999</td>\n",
              "      <td>Medium</td>\n",
              "      <td>Tier 1</td>\n",
              "      <td>Supermarket Type1</td>\n",
              "      <td>2097.2700</td>\n",
              "    </tr>\n",
              "    <tr>\n",
              "      <th>4</th>\n",
              "      <td>NCD19</td>\n",
              "      <td>8.930</td>\n",
              "      <td>Low Fat</td>\n",
              "      <td>0.000000</td>\n",
              "      <td>Household</td>\n",
              "      <td>53.8614</td>\n",
              "      <td>OUT013</td>\n",
              "      <td>1987</td>\n",
              "      <td>High</td>\n",
              "      <td>Tier 3</td>\n",
              "      <td>Supermarket Type1</td>\n",
              "      <td>994.7052</td>\n",
              "    </tr>\n",
              "    <tr>\n",
              "      <th>5</th>\n",
              "      <td>FDP36</td>\n",
              "      <td>10.395</td>\n",
              "      <td>Regular</td>\n",
              "      <td>0.000000</td>\n",
              "      <td>Baking Goods</td>\n",
              "      <td>51.4008</td>\n",
              "      <td>OUT018</td>\n",
              "      <td>2009</td>\n",
              "      <td>Medium</td>\n",
              "      <td>Tier 3</td>\n",
              "      <td>Supermarket Type2</td>\n",
              "      <td>556.6088</td>\n",
              "    </tr>\n",
              "    <tr>\n",
              "      <th>...</th>\n",
              "      <td>...</td>\n",
              "      <td>...</td>\n",
              "      <td>...</td>\n",
              "      <td>...</td>\n",
              "      <td>...</td>\n",
              "      <td>...</td>\n",
              "      <td>...</td>\n",
              "      <td>...</td>\n",
              "      <td>...</td>\n",
              "      <td>...</td>\n",
              "      <td>...</td>\n",
              "      <td>...</td>\n",
              "    </tr>\n",
              "    <tr>\n",
              "      <th>8517</th>\n",
              "      <td>FDF53</td>\n",
              "      <td>20.750</td>\n",
              "      <td>reg</td>\n",
              "      <td>0.083607</td>\n",
              "      <td>Frozen Foods</td>\n",
              "      <td>178.8318</td>\n",
              "      <td>OUT046</td>\n",
              "      <td>1997</td>\n",
              "      <td>Small</td>\n",
              "      <td>Tier 1</td>\n",
              "      <td>Supermarket Type1</td>\n",
              "      <td>3608.6360</td>\n",
              "    </tr>\n",
              "    <tr>\n",
              "      <th>8518</th>\n",
              "      <td>FDF22</td>\n",
              "      <td>6.865</td>\n",
              "      <td>Low Fat</td>\n",
              "      <td>0.056783</td>\n",
              "      <td>Snack Foods</td>\n",
              "      <td>214.5218</td>\n",
              "      <td>OUT013</td>\n",
              "      <td>1987</td>\n",
              "      <td>High</td>\n",
              "      <td>Tier 3</td>\n",
              "      <td>Supermarket Type1</td>\n",
              "      <td>2778.3834</td>\n",
              "    </tr>\n",
              "    <tr>\n",
              "      <th>8520</th>\n",
              "      <td>NCJ29</td>\n",
              "      <td>10.600</td>\n",
              "      <td>Low Fat</td>\n",
              "      <td>0.035186</td>\n",
              "      <td>Health and Hygiene</td>\n",
              "      <td>85.1224</td>\n",
              "      <td>OUT035</td>\n",
              "      <td>2004</td>\n",
              "      <td>Small</td>\n",
              "      <td>Tier 2</td>\n",
              "      <td>Supermarket Type1</td>\n",
              "      <td>1193.1136</td>\n",
              "    </tr>\n",
              "    <tr>\n",
              "      <th>8521</th>\n",
              "      <td>FDN46</td>\n",
              "      <td>7.210</td>\n",
              "      <td>Regular</td>\n",
              "      <td>0.145221</td>\n",
              "      <td>Snack Foods</td>\n",
              "      <td>103.1332</td>\n",
              "      <td>OUT018</td>\n",
              "      <td>2009</td>\n",
              "      <td>Medium</td>\n",
              "      <td>Tier 3</td>\n",
              "      <td>Supermarket Type2</td>\n",
              "      <td>1845.5976</td>\n",
              "    </tr>\n",
              "    <tr>\n",
              "      <th>8522</th>\n",
              "      <td>DRG01</td>\n",
              "      <td>14.800</td>\n",
              "      <td>Low Fat</td>\n",
              "      <td>0.044878</td>\n",
              "      <td>Soft Drinks</td>\n",
              "      <td>75.4670</td>\n",
              "      <td>OUT046</td>\n",
              "      <td>1997</td>\n",
              "      <td>Small</td>\n",
              "      <td>Tier 1</td>\n",
              "      <td>Supermarket Type1</td>\n",
              "      <td>765.6700</td>\n",
              "    </tr>\n",
              "  </tbody>\n",
              "</table>\n",
              "<p>4650 rows × 12 columns</p>\n",
              "</div>\n",
              "      <button class=\"colab-df-convert\" onclick=\"convertToInteractive('df-d9f33a66-9654-40d2-9e13-b25607d39ab0')\"\n",
              "              title=\"Convert this dataframe to an interactive table.\"\n",
              "              style=\"display:none;\">\n",
              "        \n",
              "  <svg xmlns=\"http://www.w3.org/2000/svg\" height=\"24px\"viewBox=\"0 0 24 24\"\n",
              "       width=\"24px\">\n",
              "    <path d=\"M0 0h24v24H0V0z\" fill=\"none\"/>\n",
              "    <path d=\"M18.56 5.44l.94 2.06.94-2.06 2.06-.94-2.06-.94-.94-2.06-.94 2.06-2.06.94zm-11 1L8.5 8.5l.94-2.06 2.06-.94-2.06-.94L8.5 2.5l-.94 2.06-2.06.94zm10 10l.94 2.06.94-2.06 2.06-.94-2.06-.94-.94-2.06-.94 2.06-2.06.94z\"/><path d=\"M17.41 7.96l-1.37-1.37c-.4-.4-.92-.59-1.43-.59-.52 0-1.04.2-1.43.59L10.3 9.45l-7.72 7.72c-.78.78-.78 2.05 0 2.83L4 21.41c.39.39.9.59 1.41.59.51 0 1.02-.2 1.41-.59l7.78-7.78 2.81-2.81c.8-.78.8-2.07 0-2.86zM5.41 20L4 18.59l7.72-7.72 1.47 1.35L5.41 20z\"/>\n",
              "  </svg>\n",
              "      </button>\n",
              "      \n",
              "  <style>\n",
              "    .colab-df-container {\n",
              "      display:flex;\n",
              "      flex-wrap:wrap;\n",
              "      gap: 12px;\n",
              "    }\n",
              "\n",
              "    .colab-df-convert {\n",
              "      background-color: #E8F0FE;\n",
              "      border: none;\n",
              "      border-radius: 50%;\n",
              "      cursor: pointer;\n",
              "      display: none;\n",
              "      fill: #1967D2;\n",
              "      height: 32px;\n",
              "      padding: 0 0 0 0;\n",
              "      width: 32px;\n",
              "    }\n",
              "\n",
              "    .colab-df-convert:hover {\n",
              "      background-color: #E2EBFA;\n",
              "      box-shadow: 0px 1px 2px rgba(60, 64, 67, 0.3), 0px 1px 3px 1px rgba(60, 64, 67, 0.15);\n",
              "      fill: #174EA6;\n",
              "    }\n",
              "\n",
              "    [theme=dark] .colab-df-convert {\n",
              "      background-color: #3B4455;\n",
              "      fill: #D2E3FC;\n",
              "    }\n",
              "\n",
              "    [theme=dark] .colab-df-convert:hover {\n",
              "      background-color: #434B5C;\n",
              "      box-shadow: 0px 1px 3px 1px rgba(0, 0, 0, 0.15);\n",
              "      filter: drop-shadow(0px 1px 2px rgba(0, 0, 0, 0.3));\n",
              "      fill: #FFFFFF;\n",
              "    }\n",
              "  </style>\n",
              "\n",
              "      <script>\n",
              "        const buttonEl =\n",
              "          document.querySelector('#df-d9f33a66-9654-40d2-9e13-b25607d39ab0 button.colab-df-convert');\n",
              "        buttonEl.style.display =\n",
              "          google.colab.kernel.accessAllowed ? 'block' : 'none';\n",
              "\n",
              "        async function convertToInteractive(key) {\n",
              "          const element = document.querySelector('#df-d9f33a66-9654-40d2-9e13-b25607d39ab0');\n",
              "          const dataTable =\n",
              "            await google.colab.kernel.invokeFunction('convertToInteractive',\n",
              "                                                     [key], {});\n",
              "          if (!dataTable) return;\n",
              "\n",
              "          const docLinkHtml = 'Like what you see? Visit the ' +\n",
              "            '<a target=\"_blank\" href=https://colab.research.google.com/notebooks/data_table.ipynb>data table notebook</a>'\n",
              "            + ' to learn more about interactive tables.';\n",
              "          element.innerHTML = '';\n",
              "          dataTable['output_type'] = 'display_data';\n",
              "          await google.colab.output.renderOutput(dataTable, element);\n",
              "          const docLink = document.createElement('div');\n",
              "          docLink.innerHTML = docLinkHtml;\n",
              "          element.appendChild(docLink);\n",
              "        }\n",
              "      </script>\n",
              "    </div>\n",
              "  </div>\n",
              "  "
            ]
          },
          "metadata": {}
        },
        {
          "output_type": "stream",
          "name": "stdout",
          "text": [
            "<class 'pandas.core.frame.DataFrame'>\n",
            "Int64Index: 4650 entries, 0 to 8522\n",
            "Data columns (total 12 columns):\n",
            " #   Column                     Non-Null Count  Dtype  \n",
            "---  ------                     --------------  -----  \n",
            " 0   Item_Identifier            4650 non-null   object \n",
            " 1   Item_Weight                4650 non-null   float64\n",
            " 2   Item_Fat_Content           4650 non-null   object \n",
            " 3   Item_Visibility            4650 non-null   float64\n",
            " 4   Item_Type                  4650 non-null   object \n",
            " 5   Item_MRP                   4650 non-null   float64\n",
            " 6   Outlet_Identifier          4650 non-null   object \n",
            " 7   Outlet_Establishment_Year  4650 non-null   int64  \n",
            " 8   Outlet_Size                4650 non-null   object \n",
            " 9   Outlet_Location_Type       4650 non-null   object \n",
            " 10  Outlet_Type                4650 non-null   object \n",
            " 11  Item_Outlet_Sales          4650 non-null   float64\n",
            "dtypes: float64(4), int64(1), object(7)\n",
            "memory usage: 472.3+ KB\n"
          ]
        }
      ]
    },
    {
      "cell_type": "markdown",
      "source": [
        "## # 6. Confirm that there are no missing values after addressing them."
      ],
      "metadata": {
        "id": "5Sog_ReiWgCs"
      }
    },
    {
      "cell_type": "code",
      "source": [
        "# 6. Confirm that there are no missing values after addressing them.\n",
        "sales_pred_df.isna().sum()"
      ],
      "metadata": {
        "colab": {
          "base_uri": "https://localhost:8080/"
        },
        "id": "ELx6IoFvUUD5",
        "outputId": "e96c6be7-ca29-4f15-df08-714864681491"
      },
      "execution_count": 9,
      "outputs": [
        {
          "output_type": "execute_result",
          "data": {
            "text/plain": [
              "Item_Identifier              0\n",
              "Item_Weight                  0\n",
              "Item_Fat_Content             0\n",
              "Item_Visibility              0\n",
              "Item_Type                    0\n",
              "Item_MRP                     0\n",
              "Outlet_Identifier            0\n",
              "Outlet_Establishment_Year    0\n",
              "Outlet_Size                  0\n",
              "Outlet_Location_Type         0\n",
              "Outlet_Type                  0\n",
              "Item_Outlet_Sales            0\n",
              "dtype: int64"
            ]
          },
          "metadata": {},
          "execution_count": 9
        }
      ]
    },
    {
      "cell_type": "markdown",
      "source": [
        "## # 7. Find and fix any inconsistent categories of data (example: fix cat, Cat, and cats so that they are consistent)."
      ],
      "metadata": {
        "id": "ZMz1W7WsWk2z"
      }
    },
    {
      "cell_type": "code",
      "source": [
        "# 7. Find and fix any inconsistent categories of data (example: fix cat, Cat, and cats so that they are consistent).\n",
        "sales_pred_df['Item_Identifier'].value_counts()"
      ],
      "metadata": {
        "colab": {
          "base_uri": "https://localhost:8080/"
        },
        "id": "0BogRRGMUg-Y",
        "outputId": "499c8182-df42-4a79-8f08-7ea960540b30"
      },
      "execution_count": 10,
      "outputs": [
        {
          "output_type": "execute_result",
          "data": {
            "text/plain": [
              "FDH26    5\n",
              "FDL51    5\n",
              "FDJ09    5\n",
              "FDB15    5\n",
              "FDC17    5\n",
              "        ..\n",
              "FDE40    1\n",
              "FDF50    1\n",
              "NCA42    1\n",
              "FDK32    1\n",
              "FDO03    1\n",
              "Name: Item_Identifier, Length: 1535, dtype: int64"
            ]
          },
          "metadata": {},
          "execution_count": 10
        }
      ]
    },
    {
      "cell_type": "code",
      "source": [
        "sales_pred_df['Item_Weight'].value_counts()"
      ],
      "metadata": {
        "colab": {
          "base_uri": "https://localhost:8080/"
        },
        "id": "zlJsD1mjVq1S",
        "outputId": "3c1658e9-ffbd-4449-915a-181ca0e740bb"
      },
      "execution_count": 11,
      "outputs": [
        {
          "output_type": "execute_result",
          "data": {
            "text/plain": [
              "12.150    58\n",
              "17.600    55\n",
              "13.650    49\n",
              "11.800    49\n",
              "16.000    45\n",
              "          ..\n",
              "6.965      1\n",
              "9.035      1\n",
              "7.260      1\n",
              "7.360      1\n",
              "6.440      1\n",
              "Name: Item_Weight, Length: 409, dtype: int64"
            ]
          },
          "metadata": {},
          "execution_count": 11
        }
      ]
    },
    {
      "cell_type": "code",
      "source": [
        "sales_pred_df['Item_Fat_Content'].value_counts() # there were inconsistencies in this column\n",
        "\n",
        "sales_pred_df['Item_Fat_Content'] = sales_pred_df['Item_Fat_Content'].replace('LF', 'Low Fat')\n",
        "sales_pred_df['Item_Fat_Content'] = sales_pred_df['Item_Fat_Content'].replace('low fat', 'Low Fat')\n",
        "sales_pred_df['Item_Fat_Content'] = sales_pred_df['Item_Fat_Content'].replace('reg', 'Regular')\n",
        "sales_pred_df['Item_Fat_Content'].value_counts()"
      ],
      "metadata": {
        "colab": {
          "base_uri": "https://localhost:8080/"
        },
        "id": "YYFYuII0Vqyd",
        "outputId": "3c7fed05-b26c-4e93-c68f-62f593513824"
      },
      "execution_count": 12,
      "outputs": [
        {
          "output_type": "execute_result",
          "data": {
            "text/plain": [
              "Low Fat    3004\n",
              "Regular    1646\n",
              "Name: Item_Fat_Content, dtype: int64"
            ]
          },
          "metadata": {},
          "execution_count": 12
        }
      ]
    },
    {
      "cell_type": "code",
      "source": [
        "sales_pred_df['Item_Visibility'].value_counts()"
      ],
      "metadata": {
        "colab": {
          "base_uri": "https://localhost:8080/"
        },
        "id": "Ua2SLwONVqur",
        "outputId": "98caa51e-2c7d-4842-b94a-6490bdb9a4d9"
      },
      "execution_count": 13,
      "outputs": [
        {
          "output_type": "execute_result",
          "data": {
            "text/plain": [
              "0.000000    292\n",
              "0.076975      3\n",
              "0.121250      2\n",
              "0.046825      2\n",
              "0.026950      2\n",
              "           ... \n",
              "0.039248      1\n",
              "0.040946      1\n",
              "0.031332      1\n",
              "0.026841      1\n",
              "0.044878      1\n",
              "Name: Item_Visibility, Length: 4280, dtype: int64"
            ]
          },
          "metadata": {},
          "execution_count": 13
        }
      ]
    },
    {
      "cell_type": "code",
      "source": [
        "sales_pred_df['Item_Type'].value_counts()"
      ],
      "metadata": {
        "colab": {
          "base_uri": "https://localhost:8080/"
        },
        "id": "oaKzHJQ7Vqro",
        "outputId": "c63efb80-78bb-4866-f2dc-b26739e90655"
      },
      "execution_count": 14,
      "outputs": [
        {
          "output_type": "execute_result",
          "data": {
            "text/plain": [
              "Fruits and Vegetables    670\n",
              "Snack Foods              656\n",
              "Household                498\n",
              "Frozen Foods             477\n",
              "Dairy                    380\n",
              "Canned                   361\n",
              "Baking Goods             351\n",
              "Health and Hygiene       277\n",
              "Soft Drinks              241\n",
              "Meat                     221\n",
              "Breads                   132\n",
              "Hard Drinks              117\n",
              "Others                    91\n",
              "Starchy Foods             87\n",
              "Breakfast                 58\n",
              "Seafood                   33\n",
              "Name: Item_Type, dtype: int64"
            ]
          },
          "metadata": {},
          "execution_count": 14
        }
      ]
    },
    {
      "cell_type": "code",
      "source": [
        "sales_pred_df['Item_MRP'].value_counts()"
      ],
      "metadata": {
        "colab": {
          "base_uri": "https://localhost:8080/"
        },
        "id": "ECRP7G2BVqok",
        "outputId": "c1115915-5375-48b2-b2c1-b20652dc433e"
      },
      "execution_count": 15,
      "outputs": [
        {
          "output_type": "execute_result",
          "data": {
            "text/plain": [
              "142.0154    6\n",
              "172.0422    4\n",
              "100.1016    4\n",
              "146.9102    4\n",
              "163.1184    3\n",
              "           ..\n",
              "156.4972    1\n",
              "146.5418    1\n",
              "51.0324     1\n",
              "57.3930     1\n",
              "75.4670     1\n",
              "Name: Item_MRP, Length: 3806, dtype: int64"
            ]
          },
          "metadata": {},
          "execution_count": 15
        }
      ]
    },
    {
      "cell_type": "code",
      "source": [
        "sales_pred_df['Outlet_Identifier'].value_counts()"
      ],
      "metadata": {
        "colab": {
          "base_uri": "https://localhost:8080/"
        },
        "id": "4owWxzC8Vql4",
        "outputId": "c5e7aba7-772d-41aa-838a-4546ff27ab1d"
      },
      "execution_count": 16,
      "outputs": [
        {
          "output_type": "execute_result",
          "data": {
            "text/plain": [
              "OUT013    932\n",
              "OUT049    930\n",
              "OUT046    930\n",
              "OUT035    930\n",
              "OUT018    928\n",
              "Name: Outlet_Identifier, dtype: int64"
            ]
          },
          "metadata": {},
          "execution_count": 16
        }
      ]
    },
    {
      "cell_type": "code",
      "source": [
        "sales_pred_df['Outlet_Establishment_Year'].value_counts()"
      ],
      "metadata": {
        "colab": {
          "base_uri": "https://localhost:8080/"
        },
        "id": "jOpVNZcFVqin",
        "outputId": "8455d8f9-ebe8-4f07-bf65-55f88b34413c"
      },
      "execution_count": 17,
      "outputs": [
        {
          "output_type": "execute_result",
          "data": {
            "text/plain": [
              "1987    932\n",
              "1999    930\n",
              "1997    930\n",
              "2004    930\n",
              "2009    928\n",
              "Name: Outlet_Establishment_Year, dtype: int64"
            ]
          },
          "metadata": {},
          "execution_count": 17
        }
      ]
    },
    {
      "cell_type": "code",
      "source": [
        "sales_pred_df['Outlet_Size'].value_counts()"
      ],
      "metadata": {
        "colab": {
          "base_uri": "https://localhost:8080/"
        },
        "id": "43yHkWoXVqfk",
        "outputId": "c459e51a-64e2-47df-cbda-a27582e4f5f1"
      },
      "execution_count": 18,
      "outputs": [
        {
          "output_type": "execute_result",
          "data": {
            "text/plain": [
              "Small     1860\n",
              "Medium    1858\n",
              "High       932\n",
              "Name: Outlet_Size, dtype: int64"
            ]
          },
          "metadata": {},
          "execution_count": 18
        }
      ]
    },
    {
      "cell_type": "code",
      "source": [
        "sales_pred_df['Outlet_Location_Type'].value_counts()"
      ],
      "metadata": {
        "colab": {
          "base_uri": "https://localhost:8080/"
        },
        "id": "MIPSfrVhVqc_",
        "outputId": "28a4ba3d-1c0a-4093-822c-d303ba421ea4"
      },
      "execution_count": 19,
      "outputs": [
        {
          "output_type": "execute_result",
          "data": {
            "text/plain": [
              "Tier 1    1860\n",
              "Tier 3    1860\n",
              "Tier 2     930\n",
              "Name: Outlet_Location_Type, dtype: int64"
            ]
          },
          "metadata": {},
          "execution_count": 19
        }
      ]
    },
    {
      "cell_type": "code",
      "source": [
        "sales_pred_df['Outlet_Type'].value_counts()"
      ],
      "metadata": {
        "colab": {
          "base_uri": "https://localhost:8080/"
        },
        "id": "pUWIO_NcVqZ7",
        "outputId": "fbdb10bf-4616-4fd4-fddf-3504036ab6d5"
      },
      "execution_count": 20,
      "outputs": [
        {
          "output_type": "execute_result",
          "data": {
            "text/plain": [
              "Supermarket Type1    3722\n",
              "Supermarket Type2     928\n",
              "Name: Outlet_Type, dtype: int64"
            ]
          },
          "metadata": {},
          "execution_count": 20
        }
      ]
    },
    {
      "cell_type": "code",
      "source": [
        "sales_pred_df['Item_Outlet_Sales'].value_counts()"
      ],
      "metadata": {
        "colab": {
          "base_uri": "https://localhost:8080/"
        },
        "id": "h8Qy33r5VqXB",
        "outputId": "1a85312a-f940-44f7-e1de-a5a5efafa5f8"
      },
      "execution_count": 21,
      "outputs": [
        {
          "output_type": "execute_result",
          "data": {
            "text/plain": [
              "1342.2528    11\n",
              "1438.1280    11\n",
              "958.7520     10\n",
              "703.0848     10\n",
              "1845.5976     9\n",
              "             ..\n",
              "256.3330      1\n",
              "3941.5360     1\n",
              "3858.9768     1\n",
              "5496.8448     1\n",
              "2778.3834     1\n",
              "Name: Item_Outlet_Sales, Length: 2449, dtype: int64"
            ]
          },
          "metadata": {},
          "execution_count": 21
        }
      ]
    },
    {
      "cell_type": "markdown",
      "source": [
        "## # 8. For any numerical columns, obtain the summary statistics of each (min, max, mean)."
      ],
      "metadata": {
        "id": "5e3xgcGgWovs"
      }
    },
    {
      "cell_type": "code",
      "source": [
        "# 8. For any numerical columns, obtain the summary statistics of each (min, max, mean).\n",
        "sales_pred_df.describe().round()"
      ],
      "metadata": {
        "colab": {
          "base_uri": "https://localhost:8080/",
          "height": 344
        },
        "id": "egPD5SfFU0Ua",
        "outputId": "a3e53e22-97f6-4086-e50b-c4fb53ecd174"
      },
      "execution_count": 22,
      "outputs": [
        {
          "output_type": "execute_result",
          "data": {
            "text/plain": [
              "       Item_Weight  Item_Visibility  Item_MRP  Outlet_Establishment_Year  \\\n",
              "count       4650.0           4650.0    4650.0                     4650.0   \n",
              "mean          13.0              0.0     142.0                     1999.0   \n",
              "std            5.0              0.0      62.0                        7.0   \n",
              "min            5.0              0.0      31.0                     1987.0   \n",
              "25%            9.0              0.0      94.0                     1997.0   \n",
              "50%           13.0              0.0     143.0                     1999.0   \n",
              "75%           17.0              0.0     187.0                     2004.0   \n",
              "max           21.0              0.0     267.0                     2009.0   \n",
              "\n",
              "       Item_Outlet_Sales  \n",
              "count             4650.0  \n",
              "mean              2272.0  \n",
              "std               1498.0  \n",
              "min                 69.0  \n",
              "25%               1125.0  \n",
              "50%               1940.0  \n",
              "75%               3112.0  \n",
              "max              10257.0  "
            ],
            "text/html": [
              "\n",
              "  <div id=\"df-fa7adece-6eb4-4e5c-8143-f83c8e68cedc\">\n",
              "    <div class=\"colab-df-container\">\n",
              "      <div>\n",
              "<style scoped>\n",
              "    .dataframe tbody tr th:only-of-type {\n",
              "        vertical-align: middle;\n",
              "    }\n",
              "\n",
              "    .dataframe tbody tr th {\n",
              "        vertical-align: top;\n",
              "    }\n",
              "\n",
              "    .dataframe thead th {\n",
              "        text-align: right;\n",
              "    }\n",
              "</style>\n",
              "<table border=\"1\" class=\"dataframe\">\n",
              "  <thead>\n",
              "    <tr style=\"text-align: right;\">\n",
              "      <th></th>\n",
              "      <th>Item_Weight</th>\n",
              "      <th>Item_Visibility</th>\n",
              "      <th>Item_MRP</th>\n",
              "      <th>Outlet_Establishment_Year</th>\n",
              "      <th>Item_Outlet_Sales</th>\n",
              "    </tr>\n",
              "  </thead>\n",
              "  <tbody>\n",
              "    <tr>\n",
              "      <th>count</th>\n",
              "      <td>4650.0</td>\n",
              "      <td>4650.0</td>\n",
              "      <td>4650.0</td>\n",
              "      <td>4650.0</td>\n",
              "      <td>4650.0</td>\n",
              "    </tr>\n",
              "    <tr>\n",
              "      <th>mean</th>\n",
              "      <td>13.0</td>\n",
              "      <td>0.0</td>\n",
              "      <td>142.0</td>\n",
              "      <td>1999.0</td>\n",
              "      <td>2272.0</td>\n",
              "    </tr>\n",
              "    <tr>\n",
              "      <th>std</th>\n",
              "      <td>5.0</td>\n",
              "      <td>0.0</td>\n",
              "      <td>62.0</td>\n",
              "      <td>7.0</td>\n",
              "      <td>1498.0</td>\n",
              "    </tr>\n",
              "    <tr>\n",
              "      <th>min</th>\n",
              "      <td>5.0</td>\n",
              "      <td>0.0</td>\n",
              "      <td>31.0</td>\n",
              "      <td>1987.0</td>\n",
              "      <td>69.0</td>\n",
              "    </tr>\n",
              "    <tr>\n",
              "      <th>25%</th>\n",
              "      <td>9.0</td>\n",
              "      <td>0.0</td>\n",
              "      <td>94.0</td>\n",
              "      <td>1997.0</td>\n",
              "      <td>1125.0</td>\n",
              "    </tr>\n",
              "    <tr>\n",
              "      <th>50%</th>\n",
              "      <td>13.0</td>\n",
              "      <td>0.0</td>\n",
              "      <td>143.0</td>\n",
              "      <td>1999.0</td>\n",
              "      <td>1940.0</td>\n",
              "    </tr>\n",
              "    <tr>\n",
              "      <th>75%</th>\n",
              "      <td>17.0</td>\n",
              "      <td>0.0</td>\n",
              "      <td>187.0</td>\n",
              "      <td>2004.0</td>\n",
              "      <td>3112.0</td>\n",
              "    </tr>\n",
              "    <tr>\n",
              "      <th>max</th>\n",
              "      <td>21.0</td>\n",
              "      <td>0.0</td>\n",
              "      <td>267.0</td>\n",
              "      <td>2009.0</td>\n",
              "      <td>10257.0</td>\n",
              "    </tr>\n",
              "  </tbody>\n",
              "</table>\n",
              "</div>\n",
              "      <button class=\"colab-df-convert\" onclick=\"convertToInteractive('df-fa7adece-6eb4-4e5c-8143-f83c8e68cedc')\"\n",
              "              title=\"Convert this dataframe to an interactive table.\"\n",
              "              style=\"display:none;\">\n",
              "        \n",
              "  <svg xmlns=\"http://www.w3.org/2000/svg\" height=\"24px\"viewBox=\"0 0 24 24\"\n",
              "       width=\"24px\">\n",
              "    <path d=\"M0 0h24v24H0V0z\" fill=\"none\"/>\n",
              "    <path d=\"M18.56 5.44l.94 2.06.94-2.06 2.06-.94-2.06-.94-.94-2.06-.94 2.06-2.06.94zm-11 1L8.5 8.5l.94-2.06 2.06-.94-2.06-.94L8.5 2.5l-.94 2.06-2.06.94zm10 10l.94 2.06.94-2.06 2.06-.94-2.06-.94-.94-2.06-.94 2.06-2.06.94z\"/><path d=\"M17.41 7.96l-1.37-1.37c-.4-.4-.92-.59-1.43-.59-.52 0-1.04.2-1.43.59L10.3 9.45l-7.72 7.72c-.78.78-.78 2.05 0 2.83L4 21.41c.39.39.9.59 1.41.59.51 0 1.02-.2 1.41-.59l7.78-7.78 2.81-2.81c.8-.78.8-2.07 0-2.86zM5.41 20L4 18.59l7.72-7.72 1.47 1.35L5.41 20z\"/>\n",
              "  </svg>\n",
              "      </button>\n",
              "      \n",
              "  <style>\n",
              "    .colab-df-container {\n",
              "      display:flex;\n",
              "      flex-wrap:wrap;\n",
              "      gap: 12px;\n",
              "    }\n",
              "\n",
              "    .colab-df-convert {\n",
              "      background-color: #E8F0FE;\n",
              "      border: none;\n",
              "      border-radius: 50%;\n",
              "      cursor: pointer;\n",
              "      display: none;\n",
              "      fill: #1967D2;\n",
              "      height: 32px;\n",
              "      padding: 0 0 0 0;\n",
              "      width: 32px;\n",
              "    }\n",
              "\n",
              "    .colab-df-convert:hover {\n",
              "      background-color: #E2EBFA;\n",
              "      box-shadow: 0px 1px 2px rgba(60, 64, 67, 0.3), 0px 1px 3px 1px rgba(60, 64, 67, 0.15);\n",
              "      fill: #174EA6;\n",
              "    }\n",
              "\n",
              "    [theme=dark] .colab-df-convert {\n",
              "      background-color: #3B4455;\n",
              "      fill: #D2E3FC;\n",
              "    }\n",
              "\n",
              "    [theme=dark] .colab-df-convert:hover {\n",
              "      background-color: #434B5C;\n",
              "      box-shadow: 0px 1px 3px 1px rgba(0, 0, 0, 0.15);\n",
              "      filter: drop-shadow(0px 1px 2px rgba(0, 0, 0, 0.3));\n",
              "      fill: #FFFFFF;\n",
              "    }\n",
              "  </style>\n",
              "\n",
              "      <script>\n",
              "        const buttonEl =\n",
              "          document.querySelector('#df-fa7adece-6eb4-4e5c-8143-f83c8e68cedc button.colab-df-convert');\n",
              "        buttonEl.style.display =\n",
              "          google.colab.kernel.accessAllowed ? 'block' : 'none';\n",
              "\n",
              "        async function convertToInteractive(key) {\n",
              "          const element = document.querySelector('#df-fa7adece-6eb4-4e5c-8143-f83c8e68cedc');\n",
              "          const dataTable =\n",
              "            await google.colab.kernel.invokeFunction('convertToInteractive',\n",
              "                                                     [key], {});\n",
              "          if (!dataTable) return;\n",
              "\n",
              "          const docLinkHtml = 'Like what you see? Visit the ' +\n",
              "            '<a target=\"_blank\" href=https://colab.research.google.com/notebooks/data_table.ipynb>data table notebook</a>'\n",
              "            + ' to learn more about interactive tables.';\n",
              "          element.innerHTML = '';\n",
              "          dataTable['output_type'] = 'display_data';\n",
              "          await google.colab.output.renderOutput(dataTable, element);\n",
              "          const docLink = document.createElement('div');\n",
              "          docLink.innerHTML = docLinkHtml;\n",
              "          element.appendChild(docLink);\n",
              "        }\n",
              "      </script>\n",
              "    </div>\n",
              "  </div>\n",
              "  "
            ]
          },
          "metadata": {},
          "execution_count": 22
        }
      ]
    },
    {
      "cell_type": "markdown",
      "source": [
        "# Task 3.\n",
        "- Histogram to view the distributions of various features in your dataset.\n",
        "- Boxplot to view statistical summaries of various features in your dataset.\n",
        "- Heatmap of the correlation between features.\n"
      ],
      "metadata": {
        "id": "hGqClCfdbOdo"
      }
    },
    {
      "cell_type": "markdown",
      "source": [
        "![Capture8.PNG](data:image/png;base64,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)"
      ],
      "metadata": {
        "id": "8PJBlmVu148p"
      }
    },
    {
      "cell_type": "markdown",
      "source": [
        "## Histograms\n"
      ],
      "metadata": {
        "id": "VwvHfEGglgg4"
      }
    },
    {
      "cell_type": "code",
      "execution_count": 23,
      "metadata": {
        "ExecuteTime": {
          "end_time": "2021-08-17T15:53:40.962480Z",
          "start_time": "2021-08-17T15:53:40.045860Z"
        },
        "id": "qzW2tY3Plflp"
      },
      "outputs": [],
      "source": [
        "import pandas as pd\n",
        "import numpy as np\n",
        "import matplotlib.pyplot as plt\n",
        "import seaborn as sns"
      ]
    },
    {
      "cell_type": "code",
      "source": [
        "display(sales_pred_df)\n",
        "sales_pred_df.info()"
      ],
      "metadata": {
        "colab": {
          "base_uri": "https://localhost:8080/",
          "height": 1000
        },
        "id": "CbqSCz-tcrtS",
        "outputId": "4a41875f-a88f-4945-f470-f44ead7d3e5f"
      },
      "execution_count": 24,
      "outputs": [
        {
          "output_type": "display_data",
          "data": {
            "text/plain": [
              "     Item_Identifier  Item_Weight Item_Fat_Content  Item_Visibility  \\\n",
              "0              FDA15        9.300          Low Fat         0.016047   \n",
              "1              DRC01        5.920          Regular         0.019278   \n",
              "2              FDN15       17.500          Low Fat         0.016760   \n",
              "4              NCD19        8.930          Low Fat         0.000000   \n",
              "5              FDP36       10.395          Regular         0.000000   \n",
              "...              ...          ...              ...              ...   \n",
              "8517           FDF53       20.750          Regular         0.083607   \n",
              "8518           FDF22        6.865          Low Fat         0.056783   \n",
              "8520           NCJ29       10.600          Low Fat         0.035186   \n",
              "8521           FDN46        7.210          Regular         0.145221   \n",
              "8522           DRG01       14.800          Low Fat         0.044878   \n",
              "\n",
              "               Item_Type  Item_MRP Outlet_Identifier  \\\n",
              "0                  Dairy  249.8092            OUT049   \n",
              "1            Soft Drinks   48.2692            OUT018   \n",
              "2                   Meat  141.6180            OUT049   \n",
              "4              Household   53.8614            OUT013   \n",
              "5           Baking Goods   51.4008            OUT018   \n",
              "...                  ...       ...               ...   \n",
              "8517        Frozen Foods  178.8318            OUT046   \n",
              "8518         Snack Foods  214.5218            OUT013   \n",
              "8520  Health and Hygiene   85.1224            OUT035   \n",
              "8521         Snack Foods  103.1332            OUT018   \n",
              "8522         Soft Drinks   75.4670            OUT046   \n",
              "\n",
              "      Outlet_Establishment_Year Outlet_Size Outlet_Location_Type  \\\n",
              "0                          1999      Medium               Tier 1   \n",
              "1                          2009      Medium               Tier 3   \n",
              "2                          1999      Medium               Tier 1   \n",
              "4                          1987        High               Tier 3   \n",
              "5                          2009      Medium               Tier 3   \n",
              "...                         ...         ...                  ...   \n",
              "8517                       1997       Small               Tier 1   \n",
              "8518                       1987        High               Tier 3   \n",
              "8520                       2004       Small               Tier 2   \n",
              "8521                       2009      Medium               Tier 3   \n",
              "8522                       1997       Small               Tier 1   \n",
              "\n",
              "            Outlet_Type  Item_Outlet_Sales  \n",
              "0     Supermarket Type1          3735.1380  \n",
              "1     Supermarket Type2           443.4228  \n",
              "2     Supermarket Type1          2097.2700  \n",
              "4     Supermarket Type1           994.7052  \n",
              "5     Supermarket Type2           556.6088  \n",
              "...                 ...                ...  \n",
              "8517  Supermarket Type1          3608.6360  \n",
              "8518  Supermarket Type1          2778.3834  \n",
              "8520  Supermarket Type1          1193.1136  \n",
              "8521  Supermarket Type2          1845.5976  \n",
              "8522  Supermarket Type1           765.6700  \n",
              "\n",
              "[4650 rows x 12 columns]"
            ],
            "text/html": [
              "\n",
              "  <div id=\"df-d3ba7088-9031-431e-9ef2-df6091139a2c\">\n",
              "    <div class=\"colab-df-container\">\n",
              "      <div>\n",
              "<style scoped>\n",
              "    .dataframe tbody tr th:only-of-type {\n",
              "        vertical-align: middle;\n",
              "    }\n",
              "\n",
              "    .dataframe tbody tr th {\n",
              "        vertical-align: top;\n",
              "    }\n",
              "\n",
              "    .dataframe thead th {\n",
              "        text-align: right;\n",
              "    }\n",
              "</style>\n",
              "<table border=\"1\" class=\"dataframe\">\n",
              "  <thead>\n",
              "    <tr style=\"text-align: right;\">\n",
              "      <th></th>\n",
              "      <th>Item_Identifier</th>\n",
              "      <th>Item_Weight</th>\n",
              "      <th>Item_Fat_Content</th>\n",
              "      <th>Item_Visibility</th>\n",
              "      <th>Item_Type</th>\n",
              "      <th>Item_MRP</th>\n",
              "      <th>Outlet_Identifier</th>\n",
              "      <th>Outlet_Establishment_Year</th>\n",
              "      <th>Outlet_Size</th>\n",
              "      <th>Outlet_Location_Type</th>\n",
              "      <th>Outlet_Type</th>\n",
              "      <th>Item_Outlet_Sales</th>\n",
              "    </tr>\n",
              "  </thead>\n",
              "  <tbody>\n",
              "    <tr>\n",
              "      <th>0</th>\n",
              "      <td>FDA15</td>\n",
              "      <td>9.300</td>\n",
              "      <td>Low Fat</td>\n",
              "      <td>0.016047</td>\n",
              "      <td>Dairy</td>\n",
              "      <td>249.8092</td>\n",
              "      <td>OUT049</td>\n",
              "      <td>1999</td>\n",
              "      <td>Medium</td>\n",
              "      <td>Tier 1</td>\n",
              "      <td>Supermarket Type1</td>\n",
              "      <td>3735.1380</td>\n",
              "    </tr>\n",
              "    <tr>\n",
              "      <th>1</th>\n",
              "      <td>DRC01</td>\n",
              "      <td>5.920</td>\n",
              "      <td>Regular</td>\n",
              "      <td>0.019278</td>\n",
              "      <td>Soft Drinks</td>\n",
              "      <td>48.2692</td>\n",
              "      <td>OUT018</td>\n",
              "      <td>2009</td>\n",
              "      <td>Medium</td>\n",
              "      <td>Tier 3</td>\n",
              "      <td>Supermarket Type2</td>\n",
              "      <td>443.4228</td>\n",
              "    </tr>\n",
              "    <tr>\n",
              "      <th>2</th>\n",
              "      <td>FDN15</td>\n",
              "      <td>17.500</td>\n",
              "      <td>Low Fat</td>\n",
              "      <td>0.016760</td>\n",
              "      <td>Meat</td>\n",
              "      <td>141.6180</td>\n",
              "      <td>OUT049</td>\n",
              "      <td>1999</td>\n",
              "      <td>Medium</td>\n",
              "      <td>Tier 1</td>\n",
              "      <td>Supermarket Type1</td>\n",
              "      <td>2097.2700</td>\n",
              "    </tr>\n",
              "    <tr>\n",
              "      <th>4</th>\n",
              "      <td>NCD19</td>\n",
              "      <td>8.930</td>\n",
              "      <td>Low Fat</td>\n",
              "      <td>0.000000</td>\n",
              "      <td>Household</td>\n",
              "      <td>53.8614</td>\n",
              "      <td>OUT013</td>\n",
              "      <td>1987</td>\n",
              "      <td>High</td>\n",
              "      <td>Tier 3</td>\n",
              "      <td>Supermarket Type1</td>\n",
              "      <td>994.7052</td>\n",
              "    </tr>\n",
              "    <tr>\n",
              "      <th>5</th>\n",
              "      <td>FDP36</td>\n",
              "      <td>10.395</td>\n",
              "      <td>Regular</td>\n",
              "      <td>0.000000</td>\n",
              "      <td>Baking Goods</td>\n",
              "      <td>51.4008</td>\n",
              "      <td>OUT018</td>\n",
              "      <td>2009</td>\n",
              "      <td>Medium</td>\n",
              "      <td>Tier 3</td>\n",
              "      <td>Supermarket Type2</td>\n",
              "      <td>556.6088</td>\n",
              "    </tr>\n",
              "    <tr>\n",
              "      <th>...</th>\n",
              "      <td>...</td>\n",
              "      <td>...</td>\n",
              "      <td>...</td>\n",
              "      <td>...</td>\n",
              "      <td>...</td>\n",
              "      <td>...</td>\n",
              "      <td>...</td>\n",
              "      <td>...</td>\n",
              "      <td>...</td>\n",
              "      <td>...</td>\n",
              "      <td>...</td>\n",
              "      <td>...</td>\n",
              "    </tr>\n",
              "    <tr>\n",
              "      <th>8517</th>\n",
              "      <td>FDF53</td>\n",
              "      <td>20.750</td>\n",
              "      <td>Regular</td>\n",
              "      <td>0.083607</td>\n",
              "      <td>Frozen Foods</td>\n",
              "      <td>178.8318</td>\n",
              "      <td>OUT046</td>\n",
              "      <td>1997</td>\n",
              "      <td>Small</td>\n",
              "      <td>Tier 1</td>\n",
              "      <td>Supermarket Type1</td>\n",
              "      <td>3608.6360</td>\n",
              "    </tr>\n",
              "    <tr>\n",
              "      <th>8518</th>\n",
              "      <td>FDF22</td>\n",
              "      <td>6.865</td>\n",
              "      <td>Low Fat</td>\n",
              "      <td>0.056783</td>\n",
              "      <td>Snack Foods</td>\n",
              "      <td>214.5218</td>\n",
              "      <td>OUT013</td>\n",
              "      <td>1987</td>\n",
              "      <td>High</td>\n",
              "      <td>Tier 3</td>\n",
              "      <td>Supermarket Type1</td>\n",
              "      <td>2778.3834</td>\n",
              "    </tr>\n",
              "    <tr>\n",
              "      <th>8520</th>\n",
              "      <td>NCJ29</td>\n",
              "      <td>10.600</td>\n",
              "      <td>Low Fat</td>\n",
              "      <td>0.035186</td>\n",
              "      <td>Health and Hygiene</td>\n",
              "      <td>85.1224</td>\n",
              "      <td>OUT035</td>\n",
              "      <td>2004</td>\n",
              "      <td>Small</td>\n",
              "      <td>Tier 2</td>\n",
              "      <td>Supermarket Type1</td>\n",
              "      <td>1193.1136</td>\n",
              "    </tr>\n",
              "    <tr>\n",
              "      <th>8521</th>\n",
              "      <td>FDN46</td>\n",
              "      <td>7.210</td>\n",
              "      <td>Regular</td>\n",
              "      <td>0.145221</td>\n",
              "      <td>Snack Foods</td>\n",
              "      <td>103.1332</td>\n",
              "      <td>OUT018</td>\n",
              "      <td>2009</td>\n",
              "      <td>Medium</td>\n",
              "      <td>Tier 3</td>\n",
              "      <td>Supermarket Type2</td>\n",
              "      <td>1845.5976</td>\n",
              "    </tr>\n",
              "    <tr>\n",
              "      <th>8522</th>\n",
              "      <td>DRG01</td>\n",
              "      <td>14.800</td>\n",
              "      <td>Low Fat</td>\n",
              "      <td>0.044878</td>\n",
              "      <td>Soft Drinks</td>\n",
              "      <td>75.4670</td>\n",
              "      <td>OUT046</td>\n",
              "      <td>1997</td>\n",
              "      <td>Small</td>\n",
              "      <td>Tier 1</td>\n",
              "      <td>Supermarket Type1</td>\n",
              "      <td>765.6700</td>\n",
              "    </tr>\n",
              "  </tbody>\n",
              "</table>\n",
              "<p>4650 rows × 12 columns</p>\n",
              "</div>\n",
              "      <button class=\"colab-df-convert\" onclick=\"convertToInteractive('df-d3ba7088-9031-431e-9ef2-df6091139a2c')\"\n",
              "              title=\"Convert this dataframe to an interactive table.\"\n",
              "              style=\"display:none;\">\n",
              "        \n",
              "  <svg xmlns=\"http://www.w3.org/2000/svg\" height=\"24px\"viewBox=\"0 0 24 24\"\n",
              "       width=\"24px\">\n",
              "    <path d=\"M0 0h24v24H0V0z\" fill=\"none\"/>\n",
              "    <path d=\"M18.56 5.44l.94 2.06.94-2.06 2.06-.94-2.06-.94-.94-2.06-.94 2.06-2.06.94zm-11 1L8.5 8.5l.94-2.06 2.06-.94-2.06-.94L8.5 2.5l-.94 2.06-2.06.94zm10 10l.94 2.06.94-2.06 2.06-.94-2.06-.94-.94-2.06-.94 2.06-2.06.94z\"/><path d=\"M17.41 7.96l-1.37-1.37c-.4-.4-.92-.59-1.43-.59-.52 0-1.04.2-1.43.59L10.3 9.45l-7.72 7.72c-.78.78-.78 2.05 0 2.83L4 21.41c.39.39.9.59 1.41.59.51 0 1.02-.2 1.41-.59l7.78-7.78 2.81-2.81c.8-.78.8-2.07 0-2.86zM5.41 20L4 18.59l7.72-7.72 1.47 1.35L5.41 20z\"/>\n",
              "  </svg>\n",
              "      </button>\n",
              "      \n",
              "  <style>\n",
              "    .colab-df-container {\n",
              "      display:flex;\n",
              "      flex-wrap:wrap;\n",
              "      gap: 12px;\n",
              "    }\n",
              "\n",
              "    .colab-df-convert {\n",
              "      background-color: #E8F0FE;\n",
              "      border: none;\n",
              "      border-radius: 50%;\n",
              "      cursor: pointer;\n",
              "      display: none;\n",
              "      fill: #1967D2;\n",
              "      height: 32px;\n",
              "      padding: 0 0 0 0;\n",
              "      width: 32px;\n",
              "    }\n",
              "\n",
              "    .colab-df-convert:hover {\n",
              "      background-color: #E2EBFA;\n",
              "      box-shadow: 0px 1px 2px rgba(60, 64, 67, 0.3), 0px 1px 3px 1px rgba(60, 64, 67, 0.15);\n",
              "      fill: #174EA6;\n",
              "    }\n",
              "\n",
              "    [theme=dark] .colab-df-convert {\n",
              "      background-color: #3B4455;\n",
              "      fill: #D2E3FC;\n",
              "    }\n",
              "\n",
              "    [theme=dark] .colab-df-convert:hover {\n",
              "      background-color: #434B5C;\n",
              "      box-shadow: 0px 1px 3px 1px rgba(0, 0, 0, 0.15);\n",
              "      filter: drop-shadow(0px 1px 2px rgba(0, 0, 0, 0.3));\n",
              "      fill: #FFFFFF;\n",
              "    }\n",
              "  </style>\n",
              "\n",
              "      <script>\n",
              "        const buttonEl =\n",
              "          document.querySelector('#df-d3ba7088-9031-431e-9ef2-df6091139a2c button.colab-df-convert');\n",
              "        buttonEl.style.display =\n",
              "          google.colab.kernel.accessAllowed ? 'block' : 'none';\n",
              "\n",
              "        async function convertToInteractive(key) {\n",
              "          const element = document.querySelector('#df-d3ba7088-9031-431e-9ef2-df6091139a2c');\n",
              "          const dataTable =\n",
              "            await google.colab.kernel.invokeFunction('convertToInteractive',\n",
              "                                                     [key], {});\n",
              "          if (!dataTable) return;\n",
              "\n",
              "          const docLinkHtml = 'Like what you see? Visit the ' +\n",
              "            '<a target=\"_blank\" href=https://colab.research.google.com/notebooks/data_table.ipynb>data table notebook</a>'\n",
              "            + ' to learn more about interactive tables.';\n",
              "          element.innerHTML = '';\n",
              "          dataTable['output_type'] = 'display_data';\n",
              "          await google.colab.output.renderOutput(dataTable, element);\n",
              "          const docLink = document.createElement('div');\n",
              "          docLink.innerHTML = docLinkHtml;\n",
              "          element.appendChild(docLink);\n",
              "        }\n",
              "      </script>\n",
              "    </div>\n",
              "  </div>\n",
              "  "
            ]
          },
          "metadata": {}
        },
        {
          "output_type": "stream",
          "name": "stdout",
          "text": [
            "<class 'pandas.core.frame.DataFrame'>\n",
            "Int64Index: 4650 entries, 0 to 8522\n",
            "Data columns (total 12 columns):\n",
            " #   Column                     Non-Null Count  Dtype  \n",
            "---  ------                     --------------  -----  \n",
            " 0   Item_Identifier            4650 non-null   object \n",
            " 1   Item_Weight                4650 non-null   float64\n",
            " 2   Item_Fat_Content           4650 non-null   object \n",
            " 3   Item_Visibility            4650 non-null   float64\n",
            " 4   Item_Type                  4650 non-null   object \n",
            " 5   Item_MRP                   4650 non-null   float64\n",
            " 6   Outlet_Identifier          4650 non-null   object \n",
            " 7   Outlet_Establishment_Year  4650 non-null   int64  \n",
            " 8   Outlet_Size                4650 non-null   object \n",
            " 9   Outlet_Location_Type       4650 non-null   object \n",
            " 10  Outlet_Type                4650 non-null   object \n",
            " 11  Item_Outlet_Sales          4650 non-null   float64\n",
            "dtypes: float64(4), int64(1), object(7)\n",
            "memory usage: 472.3+ KB\n"
          ]
        }
      ]
    },
    {
      "cell_type": "code",
      "source": [
        "fig, ax = plt.subplots(figsize = (12,6))\n",
        "ax.hist(sales_pred_df[\"Item_Outlet_Sales\"], edgecolor = \"black\", bins = 'auto')\n",
        "\n",
        "ax.set_xlabel(\"Item Outlet Sales\", fontsize = 20)\n",
        "ax.set_ylabel(\"Count\", fontsize = 20);"
      ],
      "metadata": {
        "colab": {
          "base_uri": "https://localhost:8080/",
          "height": 397
        },
        "id": "LIylFYl7cQTX",
        "outputId": "edea7606-d0b9-4921-b79f-3533ce858e6b"
      },
      "execution_count": 25,
      "outputs": [
        {
          "output_type": "display_data",
          "data": {
            "text/plain": [
              "<Figure size 864x432 with 1 Axes>"
            ],
            "image/png": "[encoded data removed]"
          },
          "metadata": {
            "needs_background": "light"
          }
        }
      ]
    },
    {
      "cell_type": "code",
      "source": [
        "fig, ax = plt.subplots(figsize = (12,6))\n",
        "ax.hist(sales_pred_df[\"Item_Visibility\"], color = \"yellow\", \n",
        "        edgecolor = \"black\", bins = 'auto')\n",
        "\n",
        "ax.set_xlabel(\"Item Visibility\", fontsize = 20)\n",
        "ax.set_ylabel(\"Count\", fontsize = 20);"
      ],
      "metadata": {
        "colab": {
          "base_uri": "https://localhost:8080/",
          "height": 397
        },
        "id": "R05sMOXDd_bU",
        "outputId": "c3966937-9e92-443a-f993-847f1e948769"
      },
      "execution_count": 26,
      "outputs": [
        {
          "output_type": "display_data",
          "data": {
            "text/plain": [
              "<Figure size 864x432 with 1 Axes>"
            ],
            "image/png": "[encoded data removed]"
          },
          "metadata": {
            "needs_background": "light"
          }
        }
      ]
    },
    {
      "cell_type": "code",
      "source": [
        "fig, ax = plt.subplots(figsize = (12,6))\n",
        "ax.hist(sales_pred_df[\"Item_MRP\"], color = \"green\", edgecolor = \"black\", \n",
        "        bins = \"auto\",)\n",
        "\n",
        "ax.set_xlabel(\"Item Maximum Retail Price\", fontsize = 20)\n",
        "ax.set_ylabel(\"Count\", fontsize = 20);"
      ],
      "metadata": {
        "id": "KHx90xfInerW",
        "colab": {
          "base_uri": "https://localhost:8080/",
          "height": 397
        },
        "outputId": "74ebc35a-1db1-48a9-bb37-867245acc042"
      },
      "execution_count": 27,
      "outputs": [
        {
          "output_type": "display_data",
          "data": {
            "text/plain": [
              "<Figure size 864x432 with 1 Axes>"
            ],
            "image/png": "[encoded data removed]"
          },
          "metadata": {
            "needs_background": "light"
          }
        }
      ]
    },
    {
      "cell_type": "code",
      "source": [
        "fig, ax = plt.subplots(figsize = (12,6))\n",
        "ax.hist(sales_pred_df[\"Item_Type\"], color = \"orange\", edgecolor = \"black\", \n",
        "        bins = 30);\n",
        "\n",
        "ax.set_xlabel(\"Item Types\", fontsize = 20)\n",
        "ax.set_ylabel(\"Count\", fontsize = 20)\n",
        "plt.xticks(rotation = 90);"
      ],
      "metadata": {
        "id": "Ok0XimVIn_79",
        "colab": {
          "base_uri": "https://localhost:8080/",
          "height": 497
        },
        "outputId": "1a44ff14-4b42-47af-96bf-ce51159a8ccd"
      },
      "execution_count": 28,
      "outputs": [
        {
          "output_type": "display_data",
          "data": {
            "text/plain": [
              "<Figure size 864x432 with 1 Axes>"
            ],
            "image/png": "[encoded data removed]"
          },
          "metadata": {
            "needs_background": "light"
          }
        }
      ]
    },
    {
      "cell_type": "markdown",
      "source": [
        "## Boxplots"
      ],
      "metadata": {
        "id": "l5c8HLQOlkZJ"
      }
    },
    {
      "cell_type": "code",
      "source": [
        "fig, ax = plt.subplots(figsize = (20,6))\n",
        "\n",
        "ax.set_title(\"Item Visibility\", fontsize = 20)\n",
        "\n",
        "plt.boxplot(sales_pred_df[\"Item_Visibility\"], vert = False, whis = 0.30);"
      ],
      "metadata": {
        "colab": {
          "base_uri": "https://localhost:8080/",
          "height": 292
        },
        "id": "dRvuYK7ErwJL",
        "outputId": "19aaa340-ff93-4ccb-e14b-d3c008ba7d59"
      },
      "execution_count": 29,
      "outputs": [
        {
          "output_type": "display_data",
          "data": {
            "text/plain": [
              "<Figure size 1440x432 with 1 Axes>"
            ],
            "image/png": "[encoded data removed]"
          },
          "metadata": {
            "needs_background": "light"
          }
        }
      ]
    },
    {
      "cell_type": "code",
      "source": [
        "fig, ax = plt.subplots()\n",
        "\n",
        "ax.set_title(\"Item Maximum Retail Price\")\n",
        "\n",
        "plt.boxplot(sales_pred_df[\"Item_MRP\"]);"
      ],
      "metadata": {
        "colab": {
          "base_uri": "https://localhost:8080/",
          "height": 281
        },
        "id": "5pATwkCtlmRt",
        "outputId": "5a1b5dbe-66c0-4b56-bcc7-21b10b5dd22f"
      },
      "execution_count": 30,
      "outputs": [
        {
          "output_type": "display_data",
          "data": {
            "text/plain": [
              "<Figure size 432x288 with 1 Axes>"
            ],
            "image/png": "[encoded data removed]"
          },
          "metadata": {
            "needs_background": "light"
          }
        }
      ]
    },
    {
      "cell_type": "markdown",
      "source": [
        "## Heatmaps"
      ],
      "metadata": {
        "id": "w7Zab0GFtBbW"
      }
    },
    {
      "cell_type": "code",
      "source": [
        "sales_corr = sales_pred_df.corr()\n",
        "\n",
        "sns.heatmap(sales_corr, cmap = \"Blues\", annot = True);"
      ],
      "metadata": {
        "colab": {
          "base_uri": "https://localhost:8080/",
          "height": 392
        },
        "id": "E22EMu5ftFNf",
        "outputId": "d3ce5169-7618-4a1e-ffa3-4875b89b1b05"
      },
      "execution_count": 31,
      "outputs": [
        {
          "output_type": "display_data",
          "data": {
            "text/plain": [
              "<Figure size 432x288 with 2 Axes>"
            ],
            "image/png": "[encoded data removed]"
          },
          "metadata": {
            "needs_background": "light"
          }
        }
      ]
    },
    {
      "cell_type": "markdown",
      "source": [
        "# Task 4\n",
        "\n",
        "- Build on your previous cleaning, exploration, and analysis.\n",
        "- Create a minimum of two data visualizations that help others understand trends in the data (explanatory data analysis).\n",
        "- Since these graphs are for reporting purposes, make sure they look nice by including titles, legends, etc."
      ],
      "metadata": {
        "id": "BM1wAoKStNaS"
      }
    },
    {
      "cell_type": "code",
      "source": [
        "import pandas as pd\n",
        "import numpy as np\n",
        "import seaborn as sns\n",
        "import matplotlib.pyplot as plt"
      ],
      "metadata": {
        "id": "JAR4BjYOvPbK"
      },
      "execution_count": 32,
      "outputs": []
    },
    {
      "cell_type": "code",
      "source": [
        "sales_pred_df[\"Outlet_Location_Type\"].value_counts()"
      ],
      "metadata": {
        "colab": {
          "base_uri": "https://localhost:8080/"
        },
        "id": "MEKLvZySuq9B",
        "outputId": "da0a5246-925c-4eab-aa33-d57a9c88adff"
      },
      "execution_count": 33,
      "outputs": [
        {
          "output_type": "execute_result",
          "data": {
            "text/plain": [
              "Tier 1    1860\n",
              "Tier 3    1860\n",
              "Tier 2     930\n",
              "Name: Outlet_Location_Type, dtype: int64"
            ]
          },
          "metadata": {},
          "execution_count": 33
        }
      ]
    },
    {
      "cell_type": "markdown",
      "source": [
        "## I'm getting the average sales between each location type."
      ],
      "metadata": {
        "id": "Co7dpzt99UUh"
      }
    },
    {
      "cell_type": "code",
      "source": [
        "tier_avg = sales_pred_df.groupby(\"Outlet_Location_Type\")[[\"Item_Outlet_Sales\"]].mean()\n",
        "tier_avg"
      ],
      "metadata": {
        "colab": {
          "base_uri": "https://localhost:8080/",
          "height": 175
        },
        "id": "7-mB50_Suxcy",
        "outputId": "0a1b8b74-0512-4883-f6f3-dd60d038d312"
      },
      "execution_count": 34,
      "outputs": [
        {
          "output_type": "execute_result",
          "data": {
            "text/plain": [
              "                      Item_Outlet_Sales\n",
              "Outlet_Location_Type                   \n",
              "Tier 1                      2313.099451\n",
              "Tier 2                      2438.841866\n",
              "Tier 3                      2147.573338"
            ],
            "text/html": [
              "\n",
              "  <div id=\"df-c5e3fca3-ff62-47f8-b0b1-006ec9f39d24\">\n",
              "    <div class=\"colab-df-container\">\n",
              "      <div>\n",
              "<style scoped>\n",
              "    .dataframe tbody tr th:only-of-type {\n",
              "        vertical-align: middle;\n",
              "    }\n",
              "\n",
              "    .dataframe tbody tr th {\n",
              "        vertical-align: top;\n",
              "    }\n",
              "\n",
              "    .dataframe thead th {\n",
              "        text-align: right;\n",
              "    }\n",
              "</style>\n",
              "<table border=\"1\" class=\"dataframe\">\n",
              "  <thead>\n",
              "    <tr style=\"text-align: right;\">\n",
              "      <th></th>\n",
              "      <th>Item_Outlet_Sales</th>\n",
              "    </tr>\n",
              "    <tr>\n",
              "      <th>Outlet_Location_Type</th>\n",
              "      <th></th>\n",
              "    </tr>\n",
              "  </thead>\n",
              "  <tbody>\n",
              "    <tr>\n",
              "      <th>Tier 1</th>\n",
              "      <td>2313.099451</td>\n",
              "    </tr>\n",
              "    <tr>\n",
              "      <th>Tier 2</th>\n",
              "      <td>2438.841866</td>\n",
              "    </tr>\n",
              "    <tr>\n",
              "      <th>Tier 3</th>\n",
              "      <td>2147.573338</td>\n",
              "    </tr>\n",
              "  </tbody>\n",
              "</table>\n",
              "</div>\n",
              "      <button class=\"colab-df-convert\" onclick=\"convertToInteractive('df-c5e3fca3-ff62-47f8-b0b1-006ec9f39d24')\"\n",
              "              title=\"Convert this dataframe to an interactive table.\"\n",
              "              style=\"display:none;\">\n",
              "        \n",
              "  <svg xmlns=\"http://www.w3.org/2000/svg\" height=\"24px\"viewBox=\"0 0 24 24\"\n",
              "       width=\"24px\">\n",
              "    <path d=\"M0 0h24v24H0V0z\" fill=\"none\"/>\n",
              "    <path d=\"M18.56 5.44l.94 2.06.94-2.06 2.06-.94-2.06-.94-.94-2.06-.94 2.06-2.06.94zm-11 1L8.5 8.5l.94-2.06 2.06-.94-2.06-.94L8.5 2.5l-.94 2.06-2.06.94zm10 10l.94 2.06.94-2.06 2.06-.94-2.06-.94-.94-2.06-.94 2.06-2.06.94z\"/><path d=\"M17.41 7.96l-1.37-1.37c-.4-.4-.92-.59-1.43-.59-.52 0-1.04.2-1.43.59L10.3 9.45l-7.72 7.72c-.78.78-.78 2.05 0 2.83L4 21.41c.39.39.9.59 1.41.59.51 0 1.02-.2 1.41-.59l7.78-7.78 2.81-2.81c.8-.78.8-2.07 0-2.86zM5.41 20L4 18.59l7.72-7.72 1.47 1.35L5.41 20z\"/>\n",
              "  </svg>\n",
              "      </button>\n",
              "      \n",
              "  <style>\n",
              "    .colab-df-container {\n",
              "      display:flex;\n",
              "      flex-wrap:wrap;\n",
              "      gap: 12px;\n",
              "    }\n",
              "\n",
              "    .colab-df-convert {\n",
              "      background-color: #E8F0FE;\n",
              "      border: none;\n",
              "      border-radius: 50%;\n",
              "      cursor: pointer;\n",
              "      display: none;\n",
              "      fill: #1967D2;\n",
              "      height: 32px;\n",
              "      padding: 0 0 0 0;\n",
              "      width: 32px;\n",
              "    }\n",
              "\n",
              "    .colab-df-convert:hover {\n",
              "      background-color: #E2EBFA;\n",
              "      box-shadow: 0px 1px 2px rgba(60, 64, 67, 0.3), 0px 1px 3px 1px rgba(60, 64, 67, 0.15);\n",
              "      fill: #174EA6;\n",
              "    }\n",
              "\n",
              "    [theme=dark] .colab-df-convert {\n",
              "      background-color: #3B4455;\n",
              "      fill: #D2E3FC;\n",
              "    }\n",
              "\n",
              "    [theme=dark] .colab-df-convert:hover {\n",
              "      background-color: #434B5C;\n",
              "      box-shadow: 0px 1px 3px 1px rgba(0, 0, 0, 0.15);\n",
              "      filter: drop-shadow(0px 1px 2px rgba(0, 0, 0, 0.3));\n",
              "      fill: #FFFFFF;\n",
              "    }\n",
              "  </style>\n",
              "\n",
              "      <script>\n",
              "        const buttonEl =\n",
              "          document.querySelector('#df-c5e3fca3-ff62-47f8-b0b1-006ec9f39d24 button.colab-df-convert');\n",
              "        buttonEl.style.display =\n",
              "          google.colab.kernel.accessAllowed ? 'block' : 'none';\n",
              "\n",
              "        async function convertToInteractive(key) {\n",
              "          const element = document.querySelector('#df-c5e3fca3-ff62-47f8-b0b1-006ec9f39d24');\n",
              "          const dataTable =\n",
              "            await google.colab.kernel.invokeFunction('convertToInteractive',\n",
              "                                                     [key], {});\n",
              "          if (!dataTable) return;\n",
              "\n",
              "          const docLinkHtml = 'Like what you see? Visit the ' +\n",
              "            '<a target=\"_blank\" href=https://colab.research.google.com/notebooks/data_table.ipynb>data table notebook</a>'\n",
              "            + ' to learn more about interactive tables.';\n",
              "          element.innerHTML = '';\n",
              "          dataTable['output_type'] = 'display_data';\n",
              "          await google.colab.output.renderOutput(dataTable, element);\n",
              "          const docLink = document.createElement('div');\n",
              "          docLink.innerHTML = docLinkHtml;\n",
              "          element.appendChild(docLink);\n",
              "        }\n",
              "      </script>\n",
              "    </div>\n",
              "  </div>\n",
              "  "
            ]
          },
          "metadata": {},
          "execution_count": 34
        }
      ]
    },
    {
      "cell_type": "code",
      "source": [
        "loc_type = np.array(tier_avg.index)\n",
        "loc_type"
      ],
      "metadata": {
        "colab": {
          "base_uri": "https://localhost:8080/"
        },
        "id": "s56qbdzIz3Qm",
        "outputId": "e49d8c6f-4a2e-47b7-aa3e-e0c9c1866906"
      },
      "execution_count": 35,
      "outputs": [
        {
          "output_type": "execute_result",
          "data": {
            "text/plain": [
              "array(['Tier 1', 'Tier 2', 'Tier 3'], dtype=object)"
            ]
          },
          "metadata": {},
          "execution_count": 35
        }
      ]
    },
    {
      "cell_type": "code",
      "source": [
        "avg_sales = list(tier_avg.values)\n",
        "avg_sales"
      ],
      "metadata": {
        "colab": {
          "base_uri": "https://localhost:8080/"
        },
        "id": "xBiLIT4S3mRh",
        "outputId": "d9afcc8e-946e-4584-899d-39cedf479915"
      },
      "execution_count": 36,
      "outputs": [
        {
          "output_type": "execute_result",
          "data": {
            "text/plain": [
              "[array([2313.09945075]), array([2438.84186602]), array([2147.57333774])]"
            ]
          },
          "metadata": {},
          "execution_count": 36
        }
      ]
    },
    {
      "cell_type": "code",
      "source": [
        "height = [2313.09945075, 2438.84186602, 2147.57333774]\n",
        "\n",
        "plt.style.use(\"bmh\")\n",
        "plt.subplots_adjust(top = 1.2, bottom = 0.3)\n",
        "\n",
        "plt.bar(loc_type, height, edgecolor = \"black\", color = \"Green\")\n",
        "\n",
        "plt.title(\"Average Sales between Outlet Area Types\", fontsize = 20)\n",
        "plt.xlabel(\"Area Type\", fontsize = 20)\n",
        "plt.ylabel(\"Item Sales\", fontsize = 20); "
      ],
      "metadata": {
        "colab": {
          "base_uri": "https://localhost:8080/",
          "height": 348
        },
        "id": "GiKhaiSr4EIW",
        "outputId": "f370b1ea-d379-4a73-e2bb-ba0c4a366793"
      },
      "execution_count": 37,
      "outputs": [
        {
          "output_type": "display_data",
          "data": {
            "text/plain": [
              "<Figure size 432x288 with 1 Axes>"
            ],
            "image/png": "[encoded data removed]"
          },
          "metadata": {
            "needs_background": "light"
          }
        }
      ]
    },
    {
      "cell_type": "markdown",
      "source": [
        "## Highest selling item. Seeing if it correlates with Item Visibility"
      ],
      "metadata": {
        "id": "k1nYDA589cZG"
      }
    },
    {
      "cell_type": "code",
      "source": [
        "# Total sales of each item type.\n",
        "typesales = sales_pred_df.groupby(\"Item_Type\")[[\"Item_Outlet_Sales\"]].sum()\n",
        "typesales"
      ],
      "metadata": {
        "colab": {
          "base_uri": "https://localhost:8080/",
          "height": 583
        },
        "id": "p9EQHgqqgRtt",
        "outputId": "47d00a52-4584-4709-e6c9-e96160583405"
      },
      "execution_count": 38,
      "outputs": [
        {
          "output_type": "execute_result",
          "data": {
            "text/plain": [
              "                       Item_Outlet_Sales\n",
              "Item_Type                               \n",
              "Baking Goods                7.184262e+05\n",
              "Breads                      3.154407e+05\n",
              "Breakfast                   1.277837e+05\n",
              "Canned                      7.960811e+05\n",
              "Dairy                       8.882198e+05\n",
              "Frozen Foods                1.059900e+06\n",
              "Fruits and Vegetables       1.549511e+06\n",
              "Hard Drinks                 2.612932e+05\n",
              "Health and Hygiene          5.922457e+05\n",
              "Household                   1.188504e+06\n",
              "Meat                        4.972714e+05\n",
              "Others                      1.996714e+05\n",
              "Seafood                     9.181382e+04\n",
              "Snack Foods                 1.568592e+06\n",
              "Soft Drinks                 4.941315e+05\n",
              "Starchy Foods               2.160887e+05"
            ],
            "text/html": [
              "\n",
              "  <div id=\"df-fa9fd258-b669-4679-9b0c-3546d482643f\">\n",
              "    <div class=\"colab-df-container\">\n",
              "      <div>\n",
              "<style scoped>\n",
              "    .dataframe tbody tr th:only-of-type {\n",
              "        vertical-align: middle;\n",
              "    }\n",
              "\n",
              "    .dataframe tbody tr th {\n",
              "        vertical-align: top;\n",
              "    }\n",
              "\n",
              "    .dataframe thead th {\n",
              "        text-align: right;\n",
              "    }\n",
              "</style>\n",
              "<table border=\"1\" class=\"dataframe\">\n",
              "  <thead>\n",
              "    <tr style=\"text-align: right;\">\n",
              "      <th></th>\n",
              "      <th>Item_Outlet_Sales</th>\n",
              "    </tr>\n",
              "    <tr>\n",
              "      <th>Item_Type</th>\n",
              "      <th></th>\n",
              "    </tr>\n",
              "  </thead>\n",
              "  <tbody>\n",
              "    <tr>\n",
              "      <th>Baking Goods</th>\n",
              "      <td>7.184262e+05</td>\n",
              "    </tr>\n",
              "    <tr>\n",
              "      <th>Breads</th>\n",
              "      <td>3.154407e+05</td>\n",
              "    </tr>\n",
              "    <tr>\n",
              "      <th>Breakfast</th>\n",
              "      <td>1.277837e+05</td>\n",
              "    </tr>\n",
              "    <tr>\n",
              "      <th>Canned</th>\n",
              "      <td>7.960811e+05</td>\n",
              "    </tr>\n",
              "    <tr>\n",
              "      <th>Dairy</th>\n",
              "      <td>8.882198e+05</td>\n",
              "    </tr>\n",
              "    <tr>\n",
              "      <th>Frozen Foods</th>\n",
              "      <td>1.059900e+06</td>\n",
              "    </tr>\n",
              "    <tr>\n",
              "      <th>Fruits and Vegetables</th>\n",
              "      <td>1.549511e+06</td>\n",
              "    </tr>\n",
              "    <tr>\n",
              "      <th>Hard Drinks</th>\n",
              "      <td>2.612932e+05</td>\n",
              "    </tr>\n",
              "    <tr>\n",
              "      <th>Health and Hygiene</th>\n",
              "      <td>5.922457e+05</td>\n",
              "    </tr>\n",
              "    <tr>\n",
              "      <th>Household</th>\n",
              "      <td>1.188504e+06</td>\n",
              "    </tr>\n",
              "    <tr>\n",
              "      <th>Meat</th>\n",
              "      <td>4.972714e+05</td>\n",
              "    </tr>\n",
              "    <tr>\n",
              "      <th>Others</th>\n",
              "      <td>1.996714e+05</td>\n",
              "    </tr>\n",
              "    <tr>\n",
              "      <th>Seafood</th>\n",
              "      <td>9.181382e+04</td>\n",
              "    </tr>\n",
              "    <tr>\n",
              "      <th>Snack Foods</th>\n",
              "      <td>1.568592e+06</td>\n",
              "    </tr>\n",
              "    <tr>\n",
              "      <th>Soft Drinks</th>\n",
              "      <td>4.941315e+05</td>\n",
              "    </tr>\n",
              "    <tr>\n",
              "      <th>Starchy Foods</th>\n",
              "      <td>2.160887e+05</td>\n",
              "    </tr>\n",
              "  </tbody>\n",
              "</table>\n",
              "</div>\n",
              "      <button class=\"colab-df-convert\" onclick=\"convertToInteractive('df-fa9fd258-b669-4679-9b0c-3546d482643f')\"\n",
              "              title=\"Convert this dataframe to an interactive table.\"\n",
              "              style=\"display:none;\">\n",
              "        \n",
              "  <svg xmlns=\"http://www.w3.org/2000/svg\" height=\"24px\"viewBox=\"0 0 24 24\"\n",
              "       width=\"24px\">\n",
              "    <path d=\"M0 0h24v24H0V0z\" fill=\"none\"/>\n",
              "    <path d=\"M18.56 5.44l.94 2.06.94-2.06 2.06-.94-2.06-.94-.94-2.06-.94 2.06-2.06.94zm-11 1L8.5 8.5l.94-2.06 2.06-.94-2.06-.94L8.5 2.5l-.94 2.06-2.06.94zm10 10l.94 2.06.94-2.06 2.06-.94-2.06-.94-.94-2.06-.94 2.06-2.06.94z\"/><path d=\"M17.41 7.96l-1.37-1.37c-.4-.4-.92-.59-1.43-.59-.52 0-1.04.2-1.43.59L10.3 9.45l-7.72 7.72c-.78.78-.78 2.05 0 2.83L4 21.41c.39.39.9.59 1.41.59.51 0 1.02-.2 1.41-.59l7.78-7.78 2.81-2.81c.8-.78.8-2.07 0-2.86zM5.41 20L4 18.59l7.72-7.72 1.47 1.35L5.41 20z\"/>\n",
              "  </svg>\n",
              "      </button>\n",
              "      \n",
              "  <style>\n",
              "    .colab-df-container {\n",
              "      display:flex;\n",
              "      flex-wrap:wrap;\n",
              "      gap: 12px;\n",
              "    }\n",
              "\n",
              "    .colab-df-convert {\n",
              "      background-color: #E8F0FE;\n",
              "      border: none;\n",
              "      border-radius: 50%;\n",
              "      cursor: pointer;\n",
              "      display: none;\n",
              "      fill: #1967D2;\n",
              "      height: 32px;\n",
              "      padding: 0 0 0 0;\n",
              "      width: 32px;\n",
              "    }\n",
              "\n",
              "    .colab-df-convert:hover {\n",
              "      background-color: #E2EBFA;\n",
              "      box-shadow: 0px 1px 2px rgba(60, 64, 67, 0.3), 0px 1px 3px 1px rgba(60, 64, 67, 0.15);\n",
              "      fill: #174EA6;\n",
              "    }\n",
              "\n",
              "    [theme=dark] .colab-df-convert {\n",
              "      background-color: #3B4455;\n",
              "      fill: #D2E3FC;\n",
              "    }\n",
              "\n",
              "    [theme=dark] .colab-df-convert:hover {\n",
              "      background-color: #434B5C;\n",
              "      box-shadow: 0px 1px 3px 1px rgba(0, 0, 0, 0.15);\n",
              "      filter: drop-shadow(0px 1px 2px rgba(0, 0, 0, 0.3));\n",
              "      fill: #FFFFFF;\n",
              "    }\n",
              "  </style>\n",
              "\n",
              "      <script>\n",
              "        const buttonEl =\n",
              "          document.querySelector('#df-fa9fd258-b669-4679-9b0c-3546d482643f button.colab-df-convert');\n",
              "        buttonEl.style.display =\n",
              "          google.colab.kernel.accessAllowed ? 'block' : 'none';\n",
              "\n",
              "        async function convertToInteractive(key) {\n",
              "          const element = document.querySelector('#df-fa9fd258-b669-4679-9b0c-3546d482643f');\n",
              "          const dataTable =\n",
              "            await google.colab.kernel.invokeFunction('convertToInteractive',\n",
              "                                                     [key], {});\n",
              "          if (!dataTable) return;\n",
              "\n",
              "          const docLinkHtml = 'Like what you see? Visit the ' +\n",
              "            '<a target=\"_blank\" href=https://colab.research.google.com/notebooks/data_table.ipynb>data table notebook</a>'\n",
              "            + ' to learn more about interactive tables.';\n",
              "          element.innerHTML = '';\n",
              "          dataTable['output_type'] = 'display_data';\n",
              "          await google.colab.output.renderOutput(dataTable, element);\n",
              "          const docLink = document.createElement('div');\n",
              "          docLink.innerHTML = docLinkHtml;\n",
              "          element.appendChild(docLink);\n",
              "        }\n",
              "      </script>\n",
              "    </div>\n",
              "  </div>\n",
              "  "
            ]
          },
          "metadata": {},
          "execution_count": 38
        }
      ]
    },
    {
      "cell_type": "code",
      "source": [
        "typelist = np.array(typesales.index)\n",
        "typelist"
      ],
      "metadata": {
        "colab": {
          "base_uri": "https://localhost:8080/"
        },
        "id": "5Q_LsIAipQDO",
        "outputId": "766f582a-51c3-4f79-efe8-3266c2e34499"
      },
      "execution_count": 39,
      "outputs": [
        {
          "output_type": "execute_result",
          "data": {
            "text/plain": [
              "array(['Baking Goods', 'Breads', 'Breakfast', 'Canned', 'Dairy',\n",
              "       'Frozen Foods', 'Fruits and Vegetables', 'Hard Drinks',\n",
              "       'Health and Hygiene', 'Household', 'Meat', 'Others', 'Seafood',\n",
              "       'Snack Foods', 'Soft Drinks', 'Starchy Foods'], dtype=object)"
            ]
          },
          "metadata": {},
          "execution_count": 39
        }
      ]
    },
    {
      "cell_type": "code",
      "source": [
        "# Total of the item type's visiblity\n",
        "vislist = sales_pred_df.groupby([\"Item_Type\"])[[\"Item_Visibility\"]].sum()"
      ],
      "metadata": {
        "id": "jE2ZNPgruiKt"
      },
      "execution_count": 40,
      "outputs": []
    },
    {
      "cell_type": "code",
      "source": [
        "saleslist2 = [718426.1636, 315440.7266, 127783.665, 796081.0808, 888219.8112, 1059899.6702, 1549511.0136, 261293.21, 592245.745, 1188504.2666, 497271.3724, 199671.4226, \n",
        "        91813.82, 1568592.1758, 494131.4596, 216088.719]\n",
        "\n",
        "plt.figure(figsize = (16,8))\n",
        "\n",
        "plt.barh(typelist, saleslist2, color = \"Green\", edgecolor = \"black\")\n",
        "plt.title(\"Item Type Sales\")\n",
        "plt.ylabel(\"Item Type\")\n",
        "plt.xlabel(\"Total Item Sales\")\n",
        "# plt.ticklabel_format(useOffset=False, style = \"plain\")"
      ],
      "metadata": {
        "colab": {
          "base_uri": "https://localhost:8080/",
          "height": 434
        },
        "id": "PbeFNCTlqUoK",
        "outputId": "de8d9e7c-53d0-479e-d95a-eb23037bd47a"
      },
      "execution_count": 41,
      "outputs": [
        {
          "output_type": "execute_result",
          "data": {
            "text/plain": [
              "Text(0.5, 0, 'Total Item Sales')"
            ]
          },
          "metadata": {},
          "execution_count": 41
        },
        {
          "output_type": "display_data",
          "data": {
            "text/plain": [
              "<Figure size 1152x576 with 1 Axes>"
            ],
            "image/png": "[encoded data removed]"
          },
          "metadata": {
            "needs_background": "light"
          }
        }
      ]
    },
    {
      "cell_type": "code",
      "source": [
        "vislist2 = [21.317356289,8.180015266,4.32742859,23.054381197,25.349305827,29.482378354,41.264512,6.964867335,13.938925056,28.012855251,12.83741549,4.600662905,2.510092026,\n",
        "            40.628863641,14.172282401,5.615876378]\n",
        "\n",
        "plt.figure(figsize = (16,8))\n",
        "\n",
        "plt.barh(typelist, vislist2, color = \"Yellow\", edgecolor = \"black\");\n",
        "plt.title(\"Item Type Sales\")\n",
        "plt.ylabel(\"Item Type\")\n",
        "plt.xlabel(\"Item Type Total Visiblity \\n (0 = No Visibility)\")"
      ],
      "metadata": {
        "id": "f3ryVDEe6CVi",
        "colab": {
          "base_uri": "https://localhost:8080/",
          "height": 446
        },
        "outputId": "c4ef41cd-6a92-4fdc-b0c4-bb4f97d6e464"
      },
      "execution_count": 44,
      "outputs": [
        {
          "output_type": "execute_result",
          "data": {
            "text/plain": [
              "Text(0.5, 0, 'Item Type Total Visiblity \\n (0 = No Visibility)')"
            ]
          },
          "metadata": {},
          "execution_count": 44
        },
        {
          "output_type": "display_data",
          "data": {
            "text/plain": [
              "<Figure size 1152x576 with 1 Axes>"
            ],
            "image/png": "[encoded data removed]"
          },
          "metadata": {
            "needs_background": "light"
          }
        }
      ]
    },
    {
      "cell_type": "code",
      "source": [
        "vislist2 = [21.317356289,8.180015266,4.32742859,23.054381197,25.349305827,29.482378354,41.264512,6.964867335,13.938925056,28.012855251,12.83741549,4.600662905,2.510092026,\n",
        "            40.628863641,14.172282401,5.615876378]\n",
        "\n",
        "fig, (ax1, ax2) = plt.subplots(1, 2, figsize = (30,15))\n",
        "plt.subplots_adjust(wspace=0, top=0.85, bottom=0.1, left=0.18, right=0.95)\n",
        "\n",
        "ax1.barh(typelist, saleslist2, align='center', color = \"Blue\", edgecolor = \"black\",)\n",
        "ax1.set_title(\"Item Type Sales\", fontsize = 20)\n",
        "ax1.set_ylabel(\"Item Type\", fontsize = 20)\n",
        "ax1.set_xlabel(\"Total Item Sales\", fontsize = 15)\n",
        "ax1.yaxis.set_tick_params(labelsize=15)\n",
        "ax1.invert_xaxis() \n",
        "ax1.grid(axis = \"y\")\n",
        "\n",
        "ax2.barh(typelist, vislist2, align='center', color = \"Red\", edgecolor = \"black\")\n",
        "ax2.set_title(\"Item Type Visibility\", fontsize = 20)\n",
        "ax2.set_xlabel(\"Item Type Total Visiblity \\n (0 = No Visibility)\", fontsize = 15);\n",
        "ax2.yaxis.set_tick_params(labelsize=20)\n",
        "ax2.set_yticks([])"
      ],
      "metadata": {
        "id": "hJjQ3zIEOz40",
        "colab": {
          "base_uri": "https://localhost:8080/",
          "height": 434
        },
        "outputId": "e63d50f1-3043-4732-b389-3a95f306795a"
      },
      "execution_count": 45,
      "outputs": [
        {
          "output_type": "execute_result",
          "data": {
            "text/plain": [
              "[]"
            ]
          },
          "metadata": {},
          "execution_count": 45
        },
        {
          "output_type": "display_data",
          "data": {
            "text/plain": [
              "<Figure size 2160x1080 with 2 Axes>"
            ],
            "image/png": "[encoded data removed]"
          },
          "metadata": {
            "needs_background": "light"
          }
        }
      ]
    },
    {
      "cell_type": "markdown",
      "source": [
        "# Task 5\n",
        "\n",
        "- Before splitting your data, you can drop duplicates and fix inconsistencies in categorical data.* (*There is a way to do this after the split, but for this project, you may perform this step before the split)\n",
        "- Identify the features (X) and target (y): Assign the \"Item_Outlet_Sales\" column as your target and the rest of the relevant variables as your features matrix.\n",
        "- Perform a train test split\n",
        "- Create a preprocessing object to prepare the dataset for Machine Learning\n",
        "Make sure your imputation of missing values occurs after the train test split using SimpleImputer."
      ],
      "metadata": {
        "id": "tDi-VQuQ7tVu"
      }
    },
    {
      "cell_type": "code",
      "source": [
        "sales_pred_df2 = pd.read_csv(\"/content/drive/MyDrive/02 Week 2: Pandas/sales_predictions.csv\")\n",
        "\n",
        "display(sales_pred_df2.head())\n",
        "sales_pred_df2.info()"
      ],
      "metadata": {
        "colab": {
          "base_uri": "https://localhost:8080/",
          "height": 697
        },
        "id": "MaW-oOZWW-PO",
        "outputId": "4682312a-dd13-408b-b5f6-5babeabbf004"
      },
      "execution_count": 62,
      "outputs": [
        {
          "output_type": "display_data",
          "data": {
            "text/plain": [
              "  Item_Identifier  Item_Weight Item_Fat_Content  Item_Visibility  \\\n",
              "0           FDA15         9.30          Low Fat         0.016047   \n",
              "1           DRC01         5.92          Regular         0.019278   \n",
              "2           FDN15        17.50          Low Fat         0.016760   \n",
              "3           FDX07        19.20          Regular         0.000000   \n",
              "4           NCD19         8.93          Low Fat         0.000000   \n",
              "\n",
              "               Item_Type  Item_MRP Outlet_Identifier  \\\n",
              "0                  Dairy  249.8092            OUT049   \n",
              "1            Soft Drinks   48.2692            OUT018   \n",
              "2                   Meat  141.6180            OUT049   \n",
              "3  Fruits and Vegetables  182.0950            OUT010   \n",
              "4              Household   53.8614            OUT013   \n",
              "\n",
              "   Outlet_Establishment_Year Outlet_Size Outlet_Location_Type  \\\n",
              "0                       1999      Medium               Tier 1   \n",
              "1                       2009      Medium               Tier 3   \n",
              "2                       1999      Medium               Tier 1   \n",
              "3                       1998         NaN               Tier 3   \n",
              "4                       1987        High               Tier 3   \n",
              "\n",
              "         Outlet_Type  Item_Outlet_Sales  \n",
              "0  Supermarket Type1          3735.1380  \n",
              "1  Supermarket Type2           443.4228  \n",
              "2  Supermarket Type1          2097.2700  \n",
              "3      Grocery Store           732.3800  \n",
              "4  Supermarket Type1           994.7052  "
            ],
            "text/html": [
              "\n",
              "  <div id=\"df-f513d5f9-9050-43de-abb5-33a7d3bf0571\">\n",
              "    <div class=\"colab-df-container\">\n",
              "      <div>\n",
              "<style scoped>\n",
              "    .dataframe tbody tr th:only-of-type {\n",
              "        vertical-align: middle;\n",
              "    }\n",
              "\n",
              "    .dataframe tbody tr th {\n",
              "        vertical-align: top;\n",
              "    }\n",
              "\n",
              "    .dataframe thead th {\n",
              "        text-align: right;\n",
              "    }\n",
              "</style>\n",
              "<table border=\"1\" class=\"dataframe\">\n",
              "  <thead>\n",
              "    <tr style=\"text-align: right;\">\n",
              "      <th></th>\n",
              "      <th>Item_Identifier</th>\n",
              "      <th>Item_Weight</th>\n",
              "      <th>Item_Fat_Content</th>\n",
              "      <th>Item_Visibility</th>\n",
              "      <th>Item_Type</th>\n",
              "      <th>Item_MRP</th>\n",
              "      <th>Outlet_Identifier</th>\n",
              "      <th>Outlet_Establishment_Year</th>\n",
              "      <th>Outlet_Size</th>\n",
              "      <th>Outlet_Location_Type</th>\n",
              "      <th>Outlet_Type</th>\n",
              "      <th>Item_Outlet_Sales</th>\n",
              "    </tr>\n",
              "  </thead>\n",
              "  <tbody>\n",
              "    <tr>\n",
              "      <th>0</th>\n",
              "      <td>FDA15</td>\n",
              "      <td>9.30</td>\n",
              "      <td>Low Fat</td>\n",
              "      <td>0.016047</td>\n",
              "      <td>Dairy</td>\n",
              "      <td>249.8092</td>\n",
              "      <td>OUT049</td>\n",
              "      <td>1999</td>\n",
              "      <td>Medium</td>\n",
              "      <td>Tier 1</td>\n",
              "      <td>Supermarket Type1</td>\n",
              "      <td>3735.1380</td>\n",
              "    </tr>\n",
              "    <tr>\n",
              "      <th>1</th>\n",
              "      <td>DRC01</td>\n",
              "      <td>5.92</td>\n",
              "      <td>Regular</td>\n",
              "      <td>0.019278</td>\n",
              "      <td>Soft Drinks</td>\n",
              "      <td>48.2692</td>\n",
              "      <td>OUT018</td>\n",
              "      <td>2009</td>\n",
              "      <td>Medium</td>\n",
              "      <td>Tier 3</td>\n",
              "      <td>Supermarket Type2</td>\n",
              "      <td>443.4228</td>\n",
              "    </tr>\n",
              "    <tr>\n",
              "      <th>2</th>\n",
              "      <td>FDN15</td>\n",
              "      <td>17.50</td>\n",
              "      <td>Low Fat</td>\n",
              "      <td>0.016760</td>\n",
              "      <td>Meat</td>\n",
              "      <td>141.6180</td>\n",
              "      <td>OUT049</td>\n",
              "      <td>1999</td>\n",
              "      <td>Medium</td>\n",
              "      <td>Tier 1</td>\n",
              "      <td>Supermarket Type1</td>\n",
              "      <td>2097.2700</td>\n",
              "    </tr>\n",
              "    <tr>\n",
              "      <th>3</th>\n",
              "      <td>FDX07</td>\n",
              "      <td>19.20</td>\n",
              "      <td>Regular</td>\n",
              "      <td>0.000000</td>\n",
              "      <td>Fruits and Vegetables</td>\n",
              "      <td>182.0950</td>\n",
              "      <td>OUT010</td>\n",
              "      <td>1998</td>\n",
              "      <td>NaN</td>\n",
              "      <td>Tier 3</td>\n",
              "      <td>Grocery Store</td>\n",
              "      <td>732.3800</td>\n",
              "    </tr>\n",
              "    <tr>\n",
              "      <th>4</th>\n",
              "      <td>NCD19</td>\n",
              "      <td>8.93</td>\n",
              "      <td>Low Fat</td>\n",
              "      <td>0.000000</td>\n",
              "      <td>Household</td>\n",
              "      <td>53.8614</td>\n",
              "      <td>OUT013</td>\n",
              "      <td>1987</td>\n",
              "      <td>High</td>\n",
              "      <td>Tier 3</td>\n",
              "      <td>Supermarket Type1</td>\n",
              "      <td>994.7052</td>\n",
              "    </tr>\n",
              "  </tbody>\n",
              "</table>\n",
              "</div>\n",
              "      <button class=\"colab-df-convert\" onclick=\"convertToInteractive('df-f513d5f9-9050-43de-abb5-33a7d3bf0571')\"\n",
              "              title=\"Convert this dataframe to an interactive table.\"\n",
              "              style=\"display:none;\">\n",
              "        \n",
              "  <svg xmlns=\"http://www.w3.org/2000/svg\" height=\"24px\"viewBox=\"0 0 24 24\"\n",
              "       width=\"24px\">\n",
              "    <path d=\"M0 0h24v24H0V0z\" fill=\"none\"/>\n",
              "    <path d=\"M18.56 5.44l.94 2.06.94-2.06 2.06-.94-2.06-.94-.94-2.06-.94 2.06-2.06.94zm-11 1L8.5 8.5l.94-2.06 2.06-.94-2.06-.94L8.5 2.5l-.94 2.06-2.06.94zm10 10l.94 2.06.94-2.06 2.06-.94-2.06-.94-.94-2.06-.94 2.06-2.06.94z\"/><path d=\"M17.41 7.96l-1.37-1.37c-.4-.4-.92-.59-1.43-.59-.52 0-1.04.2-1.43.59L10.3 9.45l-7.72 7.72c-.78.78-.78 2.05 0 2.83L4 21.41c.39.39.9.59 1.41.59.51 0 1.02-.2 1.41-.59l7.78-7.78 2.81-2.81c.8-.78.8-2.07 0-2.86zM5.41 20L4 18.59l7.72-7.72 1.47 1.35L5.41 20z\"/>\n",
              "  </svg>\n",
              "      </button>\n",
              "      \n",
              "  <style>\n",
              "    .colab-df-container {\n",
              "      display:flex;\n",
              "      flex-wrap:wrap;\n",
              "      gap: 12px;\n",
              "    }\n",
              "\n",
              "    .colab-df-convert {\n",
              "      background-color: #E8F0FE;\n",
              "      border: none;\n",
              "      border-radius: 50%;\n",
              "      cursor: pointer;\n",
              "      display: none;\n",
              "      fill: #1967D2;\n",
              "      height: 32px;\n",
              "      padding: 0 0 0 0;\n",
              "      width: 32px;\n",
              "    }\n",
              "\n",
              "    .colab-df-convert:hover {\n",
              "      background-color: #E2EBFA;\n",
              "      box-shadow: 0px 1px 2px rgba(60, 64, 67, 0.3), 0px 1px 3px 1px rgba(60, 64, 67, 0.15);\n",
              "      fill: #174EA6;\n",
              "    }\n",
              "\n",
              "    [theme=dark] .colab-df-convert {\n",
              "      background-color: #3B4455;\n",
              "      fill: #D2E3FC;\n",
              "    }\n",
              "\n",
              "    [theme=dark] .colab-df-convert:hover {\n",
              "      background-color: #434B5C;\n",
              "      box-shadow: 0px 1px 3px 1px rgba(0, 0, 0, 0.15);\n",
              "      filter: drop-shadow(0px 1px 2px rgba(0, 0, 0, 0.3));\n",
              "      fill: #FFFFFF;\n",
              "    }\n",
              "  </style>\n",
              "\n",
              "      <script>\n",
              "        const buttonEl =\n",
              "          document.querySelector('#df-f513d5f9-9050-43de-abb5-33a7d3bf0571 button.colab-df-convert');\n",
              "        buttonEl.style.display =\n",
              "          google.colab.kernel.accessAllowed ? 'block' : 'none';\n",
              "\n",
              "        async function convertToInteractive(key) {\n",
              "          const element = document.querySelector('#df-f513d5f9-9050-43de-abb5-33a7d3bf0571');\n",
              "          const dataTable =\n",
              "            await google.colab.kernel.invokeFunction('convertToInteractive',\n",
              "                                                     [key], {});\n",
              "          if (!dataTable) return;\n",
              "\n",
              "          const docLinkHtml = 'Like what you see? Visit the ' +\n",
              "            '<a target=\"_blank\" href=https://colab.research.google.com/notebooks/data_table.ipynb>data table notebook</a>'\n",
              "            + ' to learn more about interactive tables.';\n",
              "          element.innerHTML = '';\n",
              "          dataTable['output_type'] = 'display_data';\n",
              "          await google.colab.output.renderOutput(dataTable, element);\n",
              "          const docLink = document.createElement('div');\n",
              "          docLink.innerHTML = docLinkHtml;\n",
              "          element.appendChild(docLink);\n",
              "        }\n",
              "      </script>\n",
              "    </div>\n",
              "  </div>\n",
              "  "
            ]
          },
          "metadata": {}
        },
        {
          "output_type": "stream",
          "name": "stdout",
          "text": [
            "<class 'pandas.core.frame.DataFrame'>\n",
            "RangeIndex: 8523 entries, 0 to 8522\n",
            "Data columns (total 12 columns):\n",
            " #   Column                     Non-Null Count  Dtype  \n",
            "---  ------                     --------------  -----  \n",
            " 0   Item_Identifier            8523 non-null   object \n",
            " 1   Item_Weight                7060 non-null   float64\n",
            " 2   Item_Fat_Content           8523 non-null   object \n",
            " 3   Item_Visibility            8523 non-null   float64\n",
            " 4   Item_Type                  8523 non-null   object \n",
            " 5   Item_MRP                   8523 non-null   float64\n",
            " 6   Outlet_Identifier          8523 non-null   object \n",
            " 7   Outlet_Establishment_Year  8523 non-null   int64  \n",
            " 8   Outlet_Size                6113 non-null   object \n",
            " 9   Outlet_Location_Type       8523 non-null   object \n",
            " 10  Outlet_Type                8523 non-null   object \n",
            " 11  Item_Outlet_Sales          8523 non-null   float64\n",
            "dtypes: float64(4), int64(1), object(7)\n",
            "memory usage: 799.2+ KB\n"
          ]
        }
      ]
    },
    {
      "cell_type": "markdown",
      "source": [
        "## Before splitting your data, you can drop duplicates and fix inconsistencies in categorical data."
      ],
      "metadata": {
        "id": "xdbmFrep93BG"
      }
    },
    {
      "cell_type": "code",
      "source": [
        "sales_pred_df2.duplicated().sum()"
      ],
      "metadata": {
        "colab": {
          "base_uri": "https://localhost:8080/"
        },
        "id": "35YYHyfklCuy",
        "outputId": "ecbaf274-d22c-4fd7-8985-718a785ec6e8"
      },
      "execution_count": 63,
      "outputs": [
        {
          "output_type": "execute_result",
          "data": {
            "text/plain": [
              "0"
            ]
          },
          "metadata": {},
          "execution_count": 63
        }
      ]
    },
    {
      "cell_type": "code",
      "source": [
        "sales_pred_df2.info()"
      ],
      "metadata": {
        "colab": {
          "base_uri": "https://localhost:8080/"
        },
        "id": "JLiaqsu6eCDW",
        "outputId": "ea40eae5-26be-4740-a69d-1b3de9e00ccc"
      },
      "execution_count": 64,
      "outputs": [
        {
          "output_type": "stream",
          "name": "stdout",
          "text": [
            "<class 'pandas.core.frame.DataFrame'>\n",
            "RangeIndex: 8523 entries, 0 to 8522\n",
            "Data columns (total 12 columns):\n",
            " #   Column                     Non-Null Count  Dtype  \n",
            "---  ------                     --------------  -----  \n",
            " 0   Item_Identifier            8523 non-null   object \n",
            " 1   Item_Weight                7060 non-null   float64\n",
            " 2   Item_Fat_Content           8523 non-null   object \n",
            " 3   Item_Visibility            8523 non-null   float64\n",
            " 4   Item_Type                  8523 non-null   object \n",
            " 5   Item_MRP                   8523 non-null   float64\n",
            " 6   Outlet_Identifier          8523 non-null   object \n",
            " 7   Outlet_Establishment_Year  8523 non-null   int64  \n",
            " 8   Outlet_Size                6113 non-null   object \n",
            " 9   Outlet_Location_Type       8523 non-null   object \n",
            " 10  Outlet_Type                8523 non-null   object \n",
            " 11  Item_Outlet_Sales          8523 non-null   float64\n",
            "dtypes: float64(4), int64(1), object(7)\n",
            "memory usage: 799.2+ KB\n"
          ]
        }
      ]
    },
    {
      "cell_type": "code",
      "source": [
        "# Fixing inconsistencies\n",
        "sales_pred_df2[\"Item_Fat_Content\"].value_counts()"
      ],
      "metadata": {
        "colab": {
          "base_uri": "https://localhost:8080/"
        },
        "id": "F5d0pRRxn97C",
        "outputId": "0e98d4c9-6a16-4396-e7e8-8a517a77a562"
      },
      "execution_count": 65,
      "outputs": [
        {
          "output_type": "execute_result",
          "data": {
            "text/plain": [
              "Low Fat    5089\n",
              "Regular    2889\n",
              "LF          316\n",
              "reg         117\n",
              "low fat     112\n",
              "Name: Item_Fat_Content, dtype: int64"
            ]
          },
          "metadata": {},
          "execution_count": 65
        }
      ]
    },
    {
      "cell_type": "code",
      "source": [
        "sales_pred_df2[\"Item_Fat_Content\"] = sales_pred_df2[\"Item_Fat_Content\"].replace(\"LF\", \"Low Fat\")\n",
        "sales_pred_df2[\"Item_Fat_Content\"] = sales_pred_df2[\"Item_Fat_Content\"].replace(\"low fat\", \"Low Fat\")\n",
        "sales_pred_df2[\"Item_Fat_Content\"] = sales_pred_df2[\"Item_Fat_Content\"].replace(\"reg\", \"Regular\")\n",
        "sales_pred_df2[\"Item_Fat_Content\"].value_counts() # double checking"
      ],
      "metadata": {
        "colab": {
          "base_uri": "https://localhost:8080/"
        },
        "id": "tlilk8QToDzh",
        "outputId": "bd5bf038-9263-4fdc-9230-907164e054f8"
      },
      "execution_count": 66,
      "outputs": [
        {
          "output_type": "execute_result",
          "data": {
            "text/plain": [
              "Low Fat    5517\n",
              "Regular    3006\n",
              "Name: Item_Fat_Content, dtype: int64"
            ]
          },
          "metadata": {},
          "execution_count": 66
        }
      ]
    },
    {
      "cell_type": "markdown",
      "source": [
        "## Identify the features (X) and target (y): Assign the \"Item_Outlet_Sales\" column as your target and the rest of the relevant variables as your features matrix."
      ],
      "metadata": {
        "id": "XXipoM7c9x18"
      }
    },
    {
      "cell_type": "code",
      "source": [
        "# \"Item_Outlet_Sales\" column is target y.\n",
        "y = sales_pred_df2[\"Item_Outlet_Sales\"]\n",
        "\n",
        "X = sales_pred_df2.drop(columns = [\"Item_Outlet_Sales\", \"Outlet_Establishment_Year\"]) # dropping irrelevant columns. \n",
        "\n",
        "display(X.head())\n",
        "X.info()"
      ],
      "metadata": {
        "id": "gFsa_xv88uMm",
        "colab": {
          "base_uri": "https://localhost:8080/",
          "height": 661
        },
        "outputId": "cb9cd8e6-e1bf-4ca5-ee42-9f10f7e59459"
      },
      "execution_count": 67,
      "outputs": [
        {
          "output_type": "display_data",
          "data": {
            "text/plain": [
              "  Item_Identifier  Item_Weight Item_Fat_Content  Item_Visibility  \\\n",
              "0           FDA15         9.30          Low Fat         0.016047   \n",
              "1           DRC01         5.92          Regular         0.019278   \n",
              "2           FDN15        17.50          Low Fat         0.016760   \n",
              "3           FDX07        19.20          Regular         0.000000   \n",
              "4           NCD19         8.93          Low Fat         0.000000   \n",
              "\n",
              "               Item_Type  Item_MRP Outlet_Identifier Outlet_Size  \\\n",
              "0                  Dairy  249.8092            OUT049      Medium   \n",
              "1            Soft Drinks   48.2692            OUT018      Medium   \n",
              "2                   Meat  141.6180            OUT049      Medium   \n",
              "3  Fruits and Vegetables  182.0950            OUT010         NaN   \n",
              "4              Household   53.8614            OUT013        High   \n",
              "\n",
              "  Outlet_Location_Type        Outlet_Type  \n",
              "0               Tier 1  Supermarket Type1  \n",
              "1               Tier 3  Supermarket Type2  \n",
              "2               Tier 1  Supermarket Type1  \n",
              "3               Tier 3      Grocery Store  \n",
              "4               Tier 3  Supermarket Type1  "
            ],
            "text/html": [
              "\n",
              "  <div id=\"df-ffc6d19b-1c1d-479c-abca-2acea709d426\">\n",
              "    <div class=\"colab-df-container\">\n",
              "      <div>\n",
              "<style scoped>\n",
              "    .dataframe tbody tr th:only-of-type {\n",
              "        vertical-align: middle;\n",
              "    }\n",
              "\n",
              "    .dataframe tbody tr th {\n",
              "        vertical-align: top;\n",
              "    }\n",
              "\n",
              "    .dataframe thead th {\n",
              "        text-align: right;\n",
              "    }\n",
              "</style>\n",
              "<table border=\"1\" class=\"dataframe\">\n",
              "  <thead>\n",
              "    <tr style=\"text-align: right;\">\n",
              "      <th></th>\n",
              "      <th>Item_Identifier</th>\n",
              "      <th>Item_Weight</th>\n",
              "      <th>Item_Fat_Content</th>\n",
              "      <th>Item_Visibility</th>\n",
              "      <th>Item_Type</th>\n",
              "      <th>Item_MRP</th>\n",
              "      <th>Outlet_Identifier</th>\n",
              "      <th>Outlet_Size</th>\n",
              "      <th>Outlet_Location_Type</th>\n",
              "      <th>Outlet_Type</th>\n",
              "    </tr>\n",
              "  </thead>\n",
              "  <tbody>\n",
              "    <tr>\n",
              "      <th>0</th>\n",
              "      <td>FDA15</td>\n",
              "      <td>9.30</td>\n",
              "      <td>Low Fat</td>\n",
              "      <td>0.016047</td>\n",
              "      <td>Dairy</td>\n",
              "      <td>249.8092</td>\n",
              "      <td>OUT049</td>\n",
              "      <td>Medium</td>\n",
              "      <td>Tier 1</td>\n",
              "      <td>Supermarket Type1</td>\n",
              "    </tr>\n",
              "    <tr>\n",
              "      <th>1</th>\n",
              "      <td>DRC01</td>\n",
              "      <td>5.92</td>\n",
              "      <td>Regular</td>\n",
              "      <td>0.019278</td>\n",
              "      <td>Soft Drinks</td>\n",
              "      <td>48.2692</td>\n",
              "      <td>OUT018</td>\n",
              "      <td>Medium</td>\n",
              "      <td>Tier 3</td>\n",
              "      <td>Supermarket Type2</td>\n",
              "    </tr>\n",
              "    <tr>\n",
              "      <th>2</th>\n",
              "      <td>FDN15</td>\n",
              "      <td>17.50</td>\n",
              "      <td>Low Fat</td>\n",
              "      <td>0.016760</td>\n",
              "      <td>Meat</td>\n",
              "      <td>141.6180</td>\n",
              "      <td>OUT049</td>\n",
              "      <td>Medium</td>\n",
              "      <td>Tier 1</td>\n",
              "      <td>Supermarket Type1</td>\n",
              "    </tr>\n",
              "    <tr>\n",
              "      <th>3</th>\n",
              "      <td>FDX07</td>\n",
              "      <td>19.20</td>\n",
              "      <td>Regular</td>\n",
              "      <td>0.000000</td>\n",
              "      <td>Fruits and Vegetables</td>\n",
              "      <td>182.0950</td>\n",
              "      <td>OUT010</td>\n",
              "      <td>NaN</td>\n",
              "      <td>Tier 3</td>\n",
              "      <td>Grocery Store</td>\n",
              "    </tr>\n",
              "    <tr>\n",
              "      <th>4</th>\n",
              "      <td>NCD19</td>\n",
              "      <td>8.93</td>\n",
              "      <td>Low Fat</td>\n",
              "      <td>0.000000</td>\n",
              "      <td>Household</td>\n",
              "      <td>53.8614</td>\n",
              "      <td>OUT013</td>\n",
              "      <td>High</td>\n",
              "      <td>Tier 3</td>\n",
              "      <td>Supermarket Type1</td>\n",
              "    </tr>\n",
              "  </tbody>\n",
              "</table>\n",
              "</div>\n",
              "      <button class=\"colab-df-convert\" onclick=\"convertToInteractive('df-ffc6d19b-1c1d-479c-abca-2acea709d426')\"\n",
              "              title=\"Convert this dataframe to an interactive table.\"\n",
              "              style=\"display:none;\">\n",
              "        \n",
              "  <svg xmlns=\"http://www.w3.org/2000/svg\" height=\"24px\"viewBox=\"0 0 24 24\"\n",
              "       width=\"24px\">\n",
              "    <path d=\"M0 0h24v24H0V0z\" fill=\"none\"/>\n",
              "    <path d=\"M18.56 5.44l.94 2.06.94-2.06 2.06-.94-2.06-.94-.94-2.06-.94 2.06-2.06.94zm-11 1L8.5 8.5l.94-2.06 2.06-.94-2.06-.94L8.5 2.5l-.94 2.06-2.06.94zm10 10l.94 2.06.94-2.06 2.06-.94-2.06-.94-.94-2.06-.94 2.06-2.06.94z\"/><path d=\"M17.41 7.96l-1.37-1.37c-.4-.4-.92-.59-1.43-.59-.52 0-1.04.2-1.43.59L10.3 9.45l-7.72 7.72c-.78.78-.78 2.05 0 2.83L4 21.41c.39.39.9.59 1.41.59.51 0 1.02-.2 1.41-.59l7.78-7.78 2.81-2.81c.8-.78.8-2.07 0-2.86zM5.41 20L4 18.59l7.72-7.72 1.47 1.35L5.41 20z\"/>\n",
              "  </svg>\n",
              "      </button>\n",
              "      \n",
              "  <style>\n",
              "    .colab-df-container {\n",
              "      display:flex;\n",
              "      flex-wrap:wrap;\n",
              "      gap: 12px;\n",
              "    }\n",
              "\n",
              "    .colab-df-convert {\n",
              "      background-color: #E8F0FE;\n",
              "      border: none;\n",
              "      border-radius: 50%;\n",
              "      cursor: pointer;\n",
              "      display: none;\n",
              "      fill: #1967D2;\n",
              "      height: 32px;\n",
              "      padding: 0 0 0 0;\n",
              "      width: 32px;\n",
              "    }\n",
              "\n",
              "    .colab-df-convert:hover {\n",
              "      background-color: #E2EBFA;\n",
              "      box-shadow: 0px 1px 2px rgba(60, 64, 67, 0.3), 0px 1px 3px 1px rgba(60, 64, 67, 0.15);\n",
              "      fill: #174EA6;\n",
              "    }\n",
              "\n",
              "    [theme=dark] .colab-df-convert {\n",
              "      background-color: #3B4455;\n",
              "      fill: #D2E3FC;\n",
              "    }\n",
              "\n",
              "    [theme=dark] .colab-df-convert:hover {\n",
              "      background-color: #434B5C;\n",
              "      box-shadow: 0px 1px 3px 1px rgba(0, 0, 0, 0.15);\n",
              "      filter: drop-shadow(0px 1px 2px rgba(0, 0, 0, 0.3));\n",
              "      fill: #FFFFFF;\n",
              "    }\n",
              "  </style>\n",
              "\n",
              "      <script>\n",
              "        const buttonEl =\n",
              "          document.querySelector('#df-ffc6d19b-1c1d-479c-abca-2acea709d426 button.colab-df-convert');\n",
              "        buttonEl.style.display =\n",
              "          google.colab.kernel.accessAllowed ? 'block' : 'none';\n",
              "\n",
              "        async function convertToInteractive(key) {\n",
              "          const element = document.querySelector('#df-ffc6d19b-1c1d-479c-abca-2acea709d426');\n",
              "          const dataTable =\n",
              "            await google.colab.kernel.invokeFunction('convertToInteractive',\n",
              "                                                     [key], {});\n",
              "          if (!dataTable) return;\n",
              "\n",
              "          const docLinkHtml = 'Like what you see? Visit the ' +\n",
              "            '<a target=\"_blank\" href=https://colab.research.google.com/notebooks/data_table.ipynb>data table notebook</a>'\n",
              "            + ' to learn more about interactive tables.';\n",
              "          element.innerHTML = '';\n",
              "          dataTable['output_type'] = 'display_data';\n",
              "          await google.colab.output.renderOutput(dataTable, element);\n",
              "          const docLink = document.createElement('div');\n",
              "          docLink.innerHTML = docLinkHtml;\n",
              "          element.appendChild(docLink);\n",
              "        }\n",
              "      </script>\n",
              "    </div>\n",
              "  </div>\n",
              "  "
            ]
          },
          "metadata": {}
        },
        {
          "output_type": "stream",
          "name": "stdout",
          "text": [
            "<class 'pandas.core.frame.DataFrame'>\n",
            "RangeIndex: 8523 entries, 0 to 8522\n",
            "Data columns (total 10 columns):\n",
            " #   Column                Non-Null Count  Dtype  \n",
            "---  ------                --------------  -----  \n",
            " 0   Item_Identifier       8523 non-null   object \n",
            " 1   Item_Weight           7060 non-null   float64\n",
            " 2   Item_Fat_Content      8523 non-null   object \n",
            " 3   Item_Visibility       8523 non-null   float64\n",
            " 4   Item_Type             8523 non-null   object \n",
            " 5   Item_MRP              8523 non-null   float64\n",
            " 6   Outlet_Identifier     8523 non-null   object \n",
            " 7   Outlet_Size           6113 non-null   object \n",
            " 8   Outlet_Location_Type  8523 non-null   object \n",
            " 9   Outlet_Type           8523 non-null   object \n",
            "dtypes: float64(3), object(7)\n",
            "memory usage: 666.0+ KB\n"
          ]
        }
      ]
    },
    {
      "cell_type": "markdown",
      "source": [
        "## Perform a train test split"
      ],
      "metadata": {
        "id": "HaNXM2_n-BqY"
      }
    },
    {
      "cell_type": "code",
      "source": [
        "from sklearn.model_selection import train_test_split"
      ],
      "metadata": {
        "id": "aWon6mSj-Khl"
      },
      "execution_count": 68,
      "outputs": []
    },
    {
      "cell_type": "code",
      "source": [
        "X_train, X_test, y_train, y_test = train_test_split(X, y, random_state=42) # 42 for consistency"
      ],
      "metadata": {
        "id": "aDCQzaZOv4rp"
      },
      "execution_count": 69,
      "outputs": []
    },
    {
      "cell_type": "markdown",
      "source": [
        "## Create a preprocessing object to prepare the dataset for Machine Learning"
      ],
      "metadata": {
        "id": "XZRPeLSPARr4"
      }
    },
    {
      "cell_type": "code",
      "source": [
        "from sklearn.compose import make_column_selector\n",
        "from sklearn.preprocessing import OneHotEncoder, StandardScaler\n",
        "from sklearn.compose import make_column_transformer\n",
        "from sklearn.impute import SimpleImputer\n",
        "from sklearn.pipeline import make_pipeline\n",
        "from sklearn import set_config\n",
        "set_config(display = \"diagram\")"
      ],
      "metadata": {
        "id": "WjjpYopjgGu9"
      },
      "execution_count": 77,
      "outputs": []
    },
    {
      "cell_type": "code",
      "source": [
        "# Ordinal Encdoing for Ordinal Columns\n",
        "sales_pred_df2[\"Outlet_Location_Type\"].value_counts()"
      ],
      "metadata": {
        "id": "28h5Pp4hqcAx",
        "colab": {
          "base_uri": "https://localhost:8080/"
        },
        "outputId": "ac0bb4cd-3f4f-4d53-f4c8-7d13352585b5"
      },
      "execution_count": 71,
      "outputs": [
        {
          "output_type": "execute_result",
          "data": {
            "text/plain": [
              "Tier 3    3350\n",
              "Tier 2    2785\n",
              "Tier 1    2388\n",
              "Name: Outlet_Location_Type, dtype: int64"
            ]
          },
          "metadata": {},
          "execution_count": 71
        }
      ]
    },
    {
      "cell_type": "code",
      "source": [
        "# Ordinal Encdoing for Ordinal Columns\n",
        "sales_pred_df2[\"Outlet_Location_Type\"].replace({\"Tier 1\": 0, \"Tier 2\": 1, \"Tier 3\": 2}, inplace = True)\n",
        "sales_pred_df2[\"Outlet_Location_Type\"].value_counts()"
      ],
      "metadata": {
        "id": "gzD3S6Gfqu1s",
        "colab": {
          "base_uri": "https://localhost:8080/"
        },
        "outputId": "3af665c4-075d-486b-f45a-5a3ca62cd158"
      },
      "execution_count": 72,
      "outputs": [
        {
          "output_type": "execute_result",
          "data": {
            "text/plain": [
              "2    3350\n",
              "1    2785\n",
              "0    2388\n",
              "Name: Outlet_Location_Type, dtype: int64"
            ]
          },
          "metadata": {},
          "execution_count": 72
        }
      ]
    },
    {
      "cell_type": "code",
      "source": [
        "number_selector = make_column_selector(dtype_include = \"number\")\n",
        "category_selector = make_column_selector(dtype_include = \"object\")"
      ],
      "metadata": {
        "id": "jg_NsjF3hObu"
      },
      "execution_count": 73,
      "outputs": []
    },
    {
      "cell_type": "code",
      "source": [
        "# preprocessing\n",
        "\n",
        "scaler = StandardScaler()\n",
        "\n",
        "OHE = OneHotEncoder(handle_unknown = \"ignore\", sparse = False)"
      ],
      "metadata": {
        "id": "nh_bSD4Weved"
      },
      "execution_count": 90,
      "outputs": []
    },
    {
      "cell_type": "markdown",
      "source": [
        "## Make sure your imputation of missing values occurs after the train test split using SimpleImputer."
      ],
      "metadata": {
        "id": "Yrtt6PdLiiQr"
      }
    },
    {
      "cell_type": "code",
      "source": [
        "mean_imputer = SimpleImputer(strategy = \"mean\") # for numeric columns missing values"
      ],
      "metadata": {
        "id": "Q8dMfsLjikGM"
      },
      "execution_count": 91,
      "outputs": []
    },
    {
      "cell_type": "code",
      "source": [
        "frequent_imputer = SimpleImputer(strategy = \"most_frequent\") # for categorical columns missing values"
      ],
      "metadata": {
        "id": "I2VfnahypSlf"
      },
      "execution_count": 92,
      "outputs": []
    },
    {
      "cell_type": "code",
      "source": [
        "num_pipe = make_pipeline(mean_imputer, scaler)\n",
        "cate_pipe = make_pipeline(frequent_imputer, OHE)\n",
        "\n",
        "num_tuple = (num_pipe, number_selector)\n",
        "cate_tuple = (cate_pipe, category_selector)\n",
        "\n",
        "preprocessor = make_column_transformer(num_tuple, cate_tuple)\n",
        "\n",
        "preprocessor\n",
        "\n",
        "# preprocessor.fit(X_train)\n",
        "\n",
        "# Xtrain_processed = preprocessor.transform(X_train)\n",
        "\n",
        "# np.isnan(Xtrain_processed).sum().sum() ## this was me checking if there is any missing values"
      ],
      "metadata": {
        "colab": {
          "base_uri": "https://localhost:8080/",
          "height": 153
        },
        "id": "GfawN4GSyc_2",
        "outputId": "185f70c3-ee5b-46f4-f45e-30e86424ecdc"
      },
      "execution_count": 95,
      "outputs": [
        {
          "output_type": "execute_result",
          "data": {
            "text/plain": [
              "ColumnTransformer(transformers=[('pipeline-1',\n",
              "                                 Pipeline(steps=[('simpleimputer',\n",
              "                                                  SimpleImputer()),\n",
              "                                                 ('standardscaler',\n",
              "                                                  StandardScaler())]),\n",
              "                                 <sklearn.compose._column_transformer.make_column_selector object at 0x7f0afd357ee0>),\n",
              "                                ('pipeline-2',\n",
              "                                 Pipeline(steps=[('simpleimputer',\n",
              "                                                  SimpleImputer(strategy='most_frequent')),\n",
              "                                                 ('onehotencoder',\n",
              "                                                  OneHotEncoder(handle_unknown='ignore',\n",
              "                                                                sparse=False))]),\n",
              "                                 <sklearn.compose._column_transformer.make_column_selector object at 0x7f0afd3574f0>)])"
            ],
            "text/html": [
              "<style>#sk-352c4de7-7311-4318-bccb-62e47bbd07fe {color: black;background-color: white;}#sk-352c4de7-7311-4318-bccb-62e47bbd07fe pre{padding: 0;}#sk-352c4de7-7311-4318-bccb-62e47bbd07fe div.sk-toggleable {background-color: white;}#sk-352c4de7-7311-4318-bccb-62e47bbd07fe label.sk-toggleable__label {cursor: pointer;display: block;width: 100%;margin-bottom: 0;padding: 0.3em;box-sizing: border-box;text-align: center;}#sk-352c4de7-7311-4318-bccb-62e47bbd07fe label.sk-toggleable__label-arrow:before {content: \"▸\";float: left;margin-right: 0.25em;color: #696969;}#sk-352c4de7-7311-4318-bccb-62e47bbd07fe label.sk-toggleable__label-arrow:hover:before {color: black;}#sk-352c4de7-7311-4318-bccb-62e47bbd07fe div.sk-estimator:hover label.sk-toggleable__label-arrow:before {color: black;}#sk-352c4de7-7311-4318-bccb-62e47bbd07fe div.sk-toggleable__content {max-height: 0;max-width: 0;overflow: hidden;text-align: left;background-color: #f0f8ff;}#sk-352c4de7-7311-4318-bccb-62e47bbd07fe div.sk-toggleable__content pre {margin: 0.2em;color: black;border-radius: 0.25em;background-color: #f0f8ff;}#sk-352c4de7-7311-4318-bccb-62e47bbd07fe input.sk-toggleable__control:checked~div.sk-toggleable__content {max-height: 200px;max-width: 100%;overflow: auto;}#sk-352c4de7-7311-4318-bccb-62e47bbd07fe input.sk-toggleable__control:checked~label.sk-toggleable__label-arrow:before {content: \"▾\";}#sk-352c4de7-7311-4318-bccb-62e47bbd07fe div.sk-estimator input.sk-toggleable__control:checked~label.sk-toggleable__label {background-color: #d4ebff;}#sk-352c4de7-7311-4318-bccb-62e47bbd07fe div.sk-label input.sk-toggleable__control:checked~label.sk-toggleable__label {background-color: #d4ebff;}#sk-352c4de7-7311-4318-bccb-62e47bbd07fe input.sk-hidden--visually {border: 0;clip: rect(1px 1px 1px 1px);clip: rect(1px, 1px, 1px, 1px);height: 1px;margin: -1px;overflow: hidden;padding: 0;position: absolute;width: 1px;}#sk-352c4de7-7311-4318-bccb-62e47bbd07fe div.sk-estimator {font-family: monospace;background-color: #f0f8ff;border: 1px dotted black;border-radius: 0.25em;box-sizing: border-box;margin-bottom: 0.5em;}#sk-352c4de7-7311-4318-bccb-62e47bbd07fe div.sk-estimator:hover {background-color: #d4ebff;}#sk-352c4de7-7311-4318-bccb-62e47bbd07fe div.sk-parallel-item::after {content: \"\";width: 100%;border-bottom: 1px solid gray;flex-grow: 1;}#sk-352c4de7-7311-4318-bccb-62e47bbd07fe div.sk-label:hover label.sk-toggleable__label {background-color: #d4ebff;}#sk-352c4de7-7311-4318-bccb-62e47bbd07fe div.sk-serial::before {content: \"\";position: absolute;border-left: 1px solid gray;box-sizing: border-box;top: 2em;bottom: 0;left: 50%;}#sk-352c4de7-7311-4318-bccb-62e47bbd07fe div.sk-serial {display: flex;flex-direction: column;align-items: center;background-color: white;padding-right: 0.2em;padding-left: 0.2em;}#sk-352c4de7-7311-4318-bccb-62e47bbd07fe div.sk-item {z-index: 1;}#sk-352c4de7-7311-4318-bccb-62e47bbd07fe div.sk-parallel {display: flex;align-items: stretch;justify-content: center;background-color: white;}#sk-352c4de7-7311-4318-bccb-62e47bbd07fe div.sk-parallel::before {content: \"\";position: absolute;border-left: 1px solid gray;box-sizing: border-box;top: 2em;bottom: 0;left: 50%;}#sk-352c4de7-7311-4318-bccb-62e47bbd07fe div.sk-parallel-item {display: flex;flex-direction: column;position: relative;background-color: white;}#sk-352c4de7-7311-4318-bccb-62e47bbd07fe div.sk-parallel-item:first-child::after {align-self: flex-end;width: 50%;}#sk-352c4de7-7311-4318-bccb-62e47bbd07fe div.sk-parallel-item:last-child::after {align-self: flex-start;width: 50%;}#sk-352c4de7-7311-4318-bccb-62e47bbd07fe div.sk-parallel-item:only-child::after {width: 0;}#sk-352c4de7-7311-4318-bccb-62e47bbd07fe div.sk-dashed-wrapped {border: 1px dashed gray;margin: 0 0.4em 0.5em 0.4em;box-sizing: border-box;padding-bottom: 0.4em;background-color: white;position: relative;}#sk-352c4de7-7311-4318-bccb-62e47bbd07fe div.sk-label label {font-family: monospace;font-weight: bold;background-color: white;display: inline-block;line-height: 1.2em;}#sk-352c4de7-7311-4318-bccb-62e47bbd07fe div.sk-label-container {position: relative;z-index: 2;text-align: center;}#sk-352c4de7-7311-4318-bccb-62e47bbd07fe div.sk-container {/* jupyter's `normalize.less` sets `[hidden] { display: none; }` but bootstrap.min.css set `[hidden] { display: none !important; }` so we also need the `!important` here to be able to override the default hidden behavior on the sphinx rendered scikit-learn.org. See: https://github.com/scikit-learn/scikit-learn/issues/21755 */display: inline-block !important;position: relative;}#sk-352c4de7-7311-4318-bccb-62e47bbd07fe div.sk-text-repr-fallback {display: none;}</style><div id=\"sk-352c4de7-7311-4318-bccb-62e47bbd07fe\" class=\"sk-top-container\"><div class=\"sk-text-repr-fallback\"><pre>ColumnTransformer(transformers=[(&#x27;pipeline-1&#x27;,\n",
              "                                 Pipeline(steps=[(&#x27;simpleimputer&#x27;,\n",
              "                                                  SimpleImputer()),\n",
              "                                                 (&#x27;standardscaler&#x27;,\n",
              "                                                  StandardScaler())]),\n",
              "                                 &lt;sklearn.compose._column_transformer.make_column_selector object at 0x7f0afd357ee0&gt;),\n",
              "                                (&#x27;pipeline-2&#x27;,\n",
              "                                 Pipeline(steps=[(&#x27;simpleimputer&#x27;,\n",
              "                                                  SimpleImputer(strategy=&#x27;most_frequent&#x27;)),\n",
              "                                                 (&#x27;onehotencoder&#x27;,\n",
              "                                                  OneHotEncoder(handle_unknown=&#x27;ignore&#x27;,\n",
              "                                                                sparse=False))]),\n",
              "                                 &lt;sklearn.compose._column_transformer.make_column_selector object at 0x7f0afd3574f0&gt;)])</pre><b>Please rerun this cell to show the HTML repr or trust the notebook.</b></div><div class=\"sk-container\" hidden><div class=\"sk-item sk-dashed-wrapped\"><div class=\"sk-label-container\"><div class=\"sk-label sk-toggleable\"><input class=\"sk-toggleable__control sk-hidden--visually\" id=\"8fc19a78-ade0-4de8-af0b-acd48018fe8b\" type=\"checkbox\" ><label for=\"8fc19a78-ade0-4de8-af0b-acd48018fe8b\" class=\"sk-toggleable__label sk-toggleable__label-arrow\">ColumnTransformer</label><div class=\"sk-toggleable__content\"><pre>ColumnTransformer(transformers=[(&#x27;pipeline-1&#x27;,\n",
              "                                 Pipeline(steps=[(&#x27;simpleimputer&#x27;,\n",
              "                                                  SimpleImputer()),\n",
              "                                                 (&#x27;standardscaler&#x27;,\n",
              "                                                  StandardScaler())]),\n",
              "                                 &lt;sklearn.compose._column_transformer.make_column_selector object at 0x7f0afd357ee0&gt;),\n",
              "                                (&#x27;pipeline-2&#x27;,\n",
              "                                 Pipeline(steps=[(&#x27;simpleimputer&#x27;,\n",
              "                                                  SimpleImputer(strategy=&#x27;most_frequent&#x27;)),\n",
              "                                                 (&#x27;onehotencoder&#x27;,\n",
              "                                                  OneHotEncoder(handle_unknown=&#x27;ignore&#x27;,\n",
              "                                                                sparse=False))]),\n",
              "                                 &lt;sklearn.compose._column_transformer.make_column_selector object at 0x7f0afd3574f0&gt;)])</pre></div></div></div><div class=\"sk-parallel\"><div class=\"sk-parallel-item\"><div class=\"sk-item\"><div class=\"sk-label-container\"><div class=\"sk-label sk-toggleable\"><input class=\"sk-toggleable__control sk-hidden--visually\" id=\"8590987c-54be-4eca-ab07-910e0a17c886\" type=\"checkbox\" ><label for=\"8590987c-54be-4eca-ab07-910e0a17c886\" class=\"sk-toggleable__label sk-toggleable__label-arrow\">pipeline-1</label><div class=\"sk-toggleable__content\"><pre>&lt;sklearn.compose._column_transformer.make_column_selector object at 0x7f0afd357ee0&gt;</pre></div></div></div><div class=\"sk-serial\"><div class=\"sk-item\"><div class=\"sk-serial\"><div class=\"sk-item\"><div class=\"sk-estimator sk-toggleable\"><input class=\"sk-toggleable__control sk-hidden--visually\" id=\"14ac826e-a62c-403a-ad88-033eb813e817\" type=\"checkbox\" ><label for=\"14ac826e-a62c-403a-ad88-033eb813e817\" class=\"sk-toggleable__label sk-toggleable__label-arrow\">SimpleImputer</label><div class=\"sk-toggleable__content\"><pre>SimpleImputer()</pre></div></div></div><div class=\"sk-item\"><div class=\"sk-estimator sk-toggleable\"><input class=\"sk-toggleable__control sk-hidden--visually\" id=\"452a458e-2827-445c-a69d-74f79c1e0dd0\" type=\"checkbox\" ><label for=\"452a458e-2827-445c-a69d-74f79c1e0dd0\" class=\"sk-toggleable__label sk-toggleable__label-arrow\">StandardScaler</label><div class=\"sk-toggleable__content\"><pre>StandardScaler()</pre></div></div></div></div></div></div></div></div><div class=\"sk-parallel-item\"><div class=\"sk-item\"><div class=\"sk-label-container\"><div class=\"sk-label sk-toggleable\"><input class=\"sk-toggleable__control sk-hidden--visually\" id=\"46e9de2c-815f-42ba-b388-fcc08c4ad6d2\" type=\"checkbox\" ><label for=\"46e9de2c-815f-42ba-b388-fcc08c4ad6d2\" class=\"sk-toggleable__label sk-toggleable__label-arrow\">pipeline-2</label><div class=\"sk-toggleable__content\"><pre>&lt;sklearn.compose._column_transformer.make_column_selector object at 0x7f0afd3574f0&gt;</pre></div></div></div><div class=\"sk-serial\"><div class=\"sk-item\"><div class=\"sk-serial\"><div class=\"sk-item\"><div class=\"sk-estimator sk-toggleable\"><input class=\"sk-toggleable__control sk-hidden--visually\" id=\"263f5ec6-c65a-426e-ad00-80260499536a\" type=\"checkbox\" ><label for=\"263f5ec6-c65a-426e-ad00-80260499536a\" class=\"sk-toggleable__label sk-toggleable__label-arrow\">SimpleImputer</label><div class=\"sk-toggleable__content\"><pre>SimpleImputer(strategy=&#x27;most_frequent&#x27;)</pre></div></div></div><div class=\"sk-item\"><div class=\"sk-estimator sk-toggleable\"><input class=\"sk-toggleable__control sk-hidden--visually\" id=\"21f8b5bd-a601-49a3-b62d-cd19cab46261\" type=\"checkbox\" ><label for=\"21f8b5bd-a601-49a3-b62d-cd19cab46261\" class=\"sk-toggleable__label sk-toggleable__label-arrow\">OneHotEncoder</label><div class=\"sk-toggleable__content\"><pre>OneHotEncoder(handle_unknown=&#x27;ignore&#x27;, sparse=False)</pre></div></div></div></div></div></div></div></div></div></div></div></div>"
            ]
          },
          "metadata": {},
          "execution_count": 95
        }
      ]
    }
  ]
}